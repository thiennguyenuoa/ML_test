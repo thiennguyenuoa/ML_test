{
  "nbformat": 4,
  "nbformat_minor": 0,
  "metadata": {
    "colab": {
      "provenance": [],
      "authorship_tag": "ABX9TyPWyTwfNfDxoSTtYqnMt6cE",
      "include_colab_link": true
    },
    "kernelspec": {
      "name": "python3",
      "display_name": "Python 3"
    },
    "language_info": {
      "name": "python"
    }
  },
  "cells": [
    {
      "cell_type": "markdown",
      "metadata": {
        "id": "view-in-github",
        "colab_type": "text"
      },
      "source": [
        "<a href=\"https://colab.research.google.com/github/thiennguyenuoa/ML_test/blob/main/weather_predict.ipynb\" target=\"_parent\"><img src=\"https://colab.research.google.com/assets/colab-badge.svg\" alt=\"Open In Colab\"/></a>"
      ]
    },
    {
      "cell_type": "code",
      "source": [
        "import csv\n",
        "import datetime\n",
        "import matplotlib.pyplot as plt\n",
        "import numpy as np\n",
        "import os\n",
        "import pandas as pd\n",
        "import seaborn as sns\n",
        "import sklearn.metrics\n",
        "import tensorflow as tf\n",
        "\n",
        "from numpy import mean\n",
        "from numpy import std\n",
        "from sklearn.model_selection import train_test_split\n",
        "from sklearn.preprocessing import LabelEncoder\n",
        "from tensorflow.keras import activations\n",
        "from tensorflow.keras import layers"
      ],
      "metadata": {
        "id": "6ipRIHWD4Syk"
      },
      "execution_count": 81,
      "outputs": []
    },
    {
      "cell_type": "code",
      "source": [
        "BATCH_SIZE = 64\n",
        "MELTING_TEMPERATURE = 2\n",
        "MIN_SNOW_CM = 0.5 # Above this value, we consider it as snow\n",
        "NUM_EPOCHS = 100\n",
        "OUTPUT_DATASET_FILE = \"snow_dataset.csv\"\n",
        "TFL_MODEL_FILE = \"snow_forecast_model.tflite\"\n",
        "TFL_MODEL_HEADER_FILE = \"snow_forecast_model.h\"\n",
        "TF_MODEL = \"snow_forecast\""
      ],
      "metadata": {
        "id": "yqiA0YeX4Xm9"
      },
      "execution_count": 107,
      "outputs": []
    },
    {
      "cell_type": "code",
      "source": [
        "!pip install wwo-hist"
      ],
      "metadata": {
        "colab": {
          "base_uri": "https://localhost:8080/"
        },
        "id": "L-kY9vZV4fj0",
        "outputId": "28bc9b14-1c49-45d4-ec5b-699e49005307"
      },
      "execution_count": 108,
      "outputs": [
        {
          "output_type": "stream",
          "name": "stdout",
          "text": [
            "Looking in indexes: https://pypi.org/simple, https://us-python.pkg.dev/colab-wheels/public/simple/\n",
            "Requirement already satisfied: wwo-hist in /usr/local/lib/python3.8/dist-packages (0.0.7)\n"
          ]
        }
      ]
    },
    {
      "cell_type": "code",
      "source": [
        "from wwo_hist import retrieve_hist_data # WorldWeatherOnline"
      ],
      "metadata": {
        "id": "nlE7gEaE4j_c"
      },
      "execution_count": 84,
      "outputs": []
    },
    {
      "cell_type": "code",
      "source": [
        "frequency=1\n",
        "api_key = '7751d2425d9d41658b0223944222512'\n",
        "location_list = ['paris']\n",
        "\n",
        "# retrieve_hist_data returns a list of dataframe(s)\n",
        "df_weather = retrieve_hist_data(api_key,\n",
        "                                location_list,\n",
        "                                '01-JAN-2011',\n",
        "                                '31-DEC-2020',\n",
        "                                frequency,\n",
        "                                location_label = False,\n",
        "                                export_csv = False,\n",
        "                                store_df = True)"
      ],
      "metadata": {
        "colab": {
          "base_uri": "https://localhost:8080/"
        },
        "id": "Z0OIPJQh4n81",
        "outputId": "0301a82b-a150-4b53-fd8b-cfa2e86b6b8b"
      },
      "execution_count": 109,
      "outputs": [
        {
          "output_type": "stream",
          "name": "stdout",
          "text": [
            "\n",
            "\n",
            "Retrieving weather data for paris\n",
            "\n",
            "\n",
            "Currently retrieving data for paris: from 2011-01-01 to 2011-01-31\n",
            "Time elapsed (hh:mm:ss.ms) 0:00:01.437361\n",
            "Currently retrieving data for paris: from 2011-02-01 to 2011-02-28\n",
            "Time elapsed (hh:mm:ss.ms) 0:00:03.119839\n",
            "Currently retrieving data for paris: from 2011-03-01 to 2011-03-31\n",
            "Time elapsed (hh:mm:ss.ms) 0:00:04.993503\n",
            "Currently retrieving data for paris: from 2011-04-01 to 2011-04-30\n",
            "Time elapsed (hh:mm:ss.ms) 0:00:06.827719\n",
            "Currently retrieving data for paris: from 2011-05-01 to 2011-05-31\n",
            "Time elapsed (hh:mm:ss.ms) 0:00:09.562470\n",
            "Currently retrieving data for paris: from 2011-06-01 to 2011-06-30\n",
            "Time elapsed (hh:mm:ss.ms) 0:00:11.487260\n",
            "Currently retrieving data for paris: from 2011-07-01 to 2011-07-31\n",
            "Time elapsed (hh:mm:ss.ms) 0:00:13.236914\n",
            "Currently retrieving data for paris: from 2011-08-01 to 2011-08-31\n",
            "Time elapsed (hh:mm:ss.ms) 0:00:15.008688\n",
            "Currently retrieving data for paris: from 2011-09-01 to 2011-09-30\n",
            "Time elapsed (hh:mm:ss.ms) 0:00:16.728805\n",
            "Currently retrieving data for paris: from 2011-10-01 to 2011-10-31\n",
            "Time elapsed (hh:mm:ss.ms) 0:00:19.900359\n",
            "Currently retrieving data for paris: from 2011-11-01 to 2011-11-30\n",
            "Time elapsed (hh:mm:ss.ms) 0:00:21.646964\n",
            "Currently retrieving data for paris: from 2011-12-01 to 2011-12-31\n",
            "Time elapsed (hh:mm:ss.ms) 0:00:23.583277\n",
            "Currently retrieving data for paris: from 2012-01-01 to 2012-01-31\n",
            "Time elapsed (hh:mm:ss.ms) 0:00:24.963508\n",
            "Currently retrieving data for paris: from 2012-02-01 to 2012-02-29\n",
            "Time elapsed (hh:mm:ss.ms) 0:00:26.275824\n",
            "Currently retrieving data for paris: from 2012-03-01 to 2012-03-31\n",
            "Time elapsed (hh:mm:ss.ms) 0:00:27.621960\n",
            "Currently retrieving data for paris: from 2012-04-01 to 2012-04-30\n",
            "Time elapsed (hh:mm:ss.ms) 0:00:28.982953\n",
            "Currently retrieving data for paris: from 2012-05-01 to 2012-05-31\n",
            "Time elapsed (hh:mm:ss.ms) 0:00:30.396010\n",
            "Currently retrieving data for paris: from 2012-06-01 to 2012-06-30\n",
            "Time elapsed (hh:mm:ss.ms) 0:00:31.623008\n",
            "Currently retrieving data for paris: from 2012-07-01 to 2012-07-31\n",
            "Time elapsed (hh:mm:ss.ms) 0:00:32.850225\n",
            "Currently retrieving data for paris: from 2012-08-01 to 2012-08-31\n",
            "Time elapsed (hh:mm:ss.ms) 0:00:34.220086\n",
            "Currently retrieving data for paris: from 2012-09-01 to 2012-09-30\n",
            "Time elapsed (hh:mm:ss.ms) 0:00:35.442078\n",
            "Currently retrieving data for paris: from 2012-10-01 to 2012-10-31\n",
            "Time elapsed (hh:mm:ss.ms) 0:00:36.712303\n",
            "Currently retrieving data for paris: from 2012-11-01 to 2012-11-30\n",
            "Time elapsed (hh:mm:ss.ms) 0:00:37.885266\n",
            "Currently retrieving data for paris: from 2012-12-01 to 2012-12-31\n",
            "Time elapsed (hh:mm:ss.ms) 0:00:39.079922\n",
            "Currently retrieving data for paris: from 2013-01-01 to 2013-01-31\n",
            "Time elapsed (hh:mm:ss.ms) 0:00:40.301199\n",
            "Currently retrieving data for paris: from 2013-02-01 to 2013-02-28\n",
            "Time elapsed (hh:mm:ss.ms) 0:00:41.456116\n",
            "Currently retrieving data for paris: from 2013-03-01 to 2013-03-31\n",
            "Time elapsed (hh:mm:ss.ms) 0:00:42.687744\n",
            "Currently retrieving data for paris: from 2013-04-01 to 2013-04-30\n",
            "Time elapsed (hh:mm:ss.ms) 0:00:43.881771\n",
            "Currently retrieving data for paris: from 2013-05-01 to 2013-05-31\n",
            "Time elapsed (hh:mm:ss.ms) 0:00:44.920743\n",
            "Currently retrieving data for paris: from 2013-06-01 to 2013-06-30\n",
            "Time elapsed (hh:mm:ss.ms) 0:00:46.118652\n",
            "Currently retrieving data for paris: from 2013-07-01 to 2013-07-31\n",
            "Time elapsed (hh:mm:ss.ms) 0:00:47.324341\n",
            "Currently retrieving data for paris: from 2013-08-01 to 2013-08-31\n",
            "Time elapsed (hh:mm:ss.ms) 0:00:48.535603\n",
            "Currently retrieving data for paris: from 2013-09-01 to 2013-09-30\n",
            "Time elapsed (hh:mm:ss.ms) 0:00:49.676508\n",
            "Currently retrieving data for paris: from 2013-10-01 to 2013-10-31\n",
            "Time elapsed (hh:mm:ss.ms) 0:00:50.889569\n",
            "Currently retrieving data for paris: from 2013-11-01 to 2013-11-30\n",
            "Time elapsed (hh:mm:ss.ms) 0:00:52.075938\n",
            "Currently retrieving data for paris: from 2013-12-01 to 2013-12-31\n",
            "Time elapsed (hh:mm:ss.ms) 0:00:53.228377\n",
            "Currently retrieving data for paris: from 2014-01-01 to 2014-01-31\n",
            "Time elapsed (hh:mm:ss.ms) 0:00:54.247551\n",
            "Currently retrieving data for paris: from 2014-02-01 to 2014-02-28\n",
            "Time elapsed (hh:mm:ss.ms) 0:00:55.468432\n",
            "Currently retrieving data for paris: from 2014-03-01 to 2014-03-31\n",
            "Time elapsed (hh:mm:ss.ms) 0:00:56.509252\n",
            "Currently retrieving data for paris: from 2014-04-01 to 2014-04-30\n",
            "Time elapsed (hh:mm:ss.ms) 0:00:57.442738\n",
            "Currently retrieving data for paris: from 2014-05-01 to 2014-05-31\n",
            "Time elapsed (hh:mm:ss.ms) 0:00:58.758169\n",
            "Currently retrieving data for paris: from 2014-06-01 to 2014-06-30\n",
            "Time elapsed (hh:mm:ss.ms) 0:00:59.900861\n",
            "Currently retrieving data for paris: from 2014-07-01 to 2014-07-31\n",
            "Time elapsed (hh:mm:ss.ms) 0:01:01.115832\n",
            "Currently retrieving data for paris: from 2014-08-01 to 2014-08-31\n",
            "Time elapsed (hh:mm:ss.ms) 0:01:02.370614\n",
            "Currently retrieving data for paris: from 2014-09-01 to 2014-09-30\n",
            "Time elapsed (hh:mm:ss.ms) 0:01:03.568476\n",
            "Currently retrieving data for paris: from 2014-10-01 to 2014-10-31\n",
            "Time elapsed (hh:mm:ss.ms) 0:01:05.173646\n",
            "Currently retrieving data for paris: from 2014-11-01 to 2014-11-30\n",
            "Time elapsed (hh:mm:ss.ms) 0:01:06.406133\n",
            "Currently retrieving data for paris: from 2014-12-01 to 2014-12-31\n",
            "Time elapsed (hh:mm:ss.ms) 0:01:07.627841\n",
            "Currently retrieving data for paris: from 2015-01-01 to 2015-01-31\n",
            "Time elapsed (hh:mm:ss.ms) 0:01:08.843924\n",
            "Currently retrieving data for paris: from 2015-02-01 to 2015-02-28\n",
            "Time elapsed (hh:mm:ss.ms) 0:01:09.868729\n",
            "Currently retrieving data for paris: from 2015-03-01 to 2015-03-31\n",
            "Time elapsed (hh:mm:ss.ms) 0:01:11.083717\n",
            "Currently retrieving data for paris: from 2015-04-01 to 2015-04-30\n",
            "Time elapsed (hh:mm:ss.ms) 0:01:12.369951\n",
            "Currently retrieving data for paris: from 2015-05-01 to 2015-05-31\n",
            "Time elapsed (hh:mm:ss.ms) 0:01:13.554582\n",
            "Currently retrieving data for paris: from 2015-06-01 to 2015-06-30\n",
            "Time elapsed (hh:mm:ss.ms) 0:01:14.785908\n",
            "Currently retrieving data for paris: from 2015-07-01 to 2015-07-31\n",
            "Time elapsed (hh:mm:ss.ms) 0:01:16.028424\n",
            "Currently retrieving data for paris: from 2015-08-01 to 2015-08-31\n",
            "Time elapsed (hh:mm:ss.ms) 0:01:17.217327\n",
            "Currently retrieving data for paris: from 2015-09-01 to 2015-09-30\n",
            "Time elapsed (hh:mm:ss.ms) 0:01:18.396037\n",
            "Currently retrieving data for paris: from 2015-10-01 to 2015-10-31\n",
            "Time elapsed (hh:mm:ss.ms) 0:01:19.622788\n",
            "Currently retrieving data for paris: from 2015-11-01 to 2015-11-30\n",
            "Time elapsed (hh:mm:ss.ms) 0:01:20.851669\n",
            "Currently retrieving data for paris: from 2015-12-01 to 2015-12-31\n",
            "Time elapsed (hh:mm:ss.ms) 0:01:22.114663\n",
            "Currently retrieving data for paris: from 2016-01-01 to 2016-01-31\n",
            "Time elapsed (hh:mm:ss.ms) 0:01:23.406603\n",
            "Currently retrieving data for paris: from 2016-02-01 to 2016-02-29\n",
            "Time elapsed (hh:mm:ss.ms) 0:01:24.586090\n",
            "Currently retrieving data for paris: from 2016-03-01 to 2016-03-31\n",
            "Time elapsed (hh:mm:ss.ms) 0:01:25.561772\n",
            "Currently retrieving data for paris: from 2016-04-01 to 2016-04-30\n",
            "Time elapsed (hh:mm:ss.ms) 0:01:26.767526\n",
            "Currently retrieving data for paris: from 2016-05-01 to 2016-05-31\n",
            "Time elapsed (hh:mm:ss.ms) 0:01:28.060051\n",
            "Currently retrieving data for paris: from 2016-06-01 to 2016-06-30\n",
            "Time elapsed (hh:mm:ss.ms) 0:01:29.234777\n",
            "Currently retrieving data for paris: from 2016-07-01 to 2016-07-31\n",
            "Time elapsed (hh:mm:ss.ms) 0:01:30.470467\n",
            "Currently retrieving data for paris: from 2016-08-01 to 2016-08-31\n",
            "Time elapsed (hh:mm:ss.ms) 0:01:31.700870\n",
            "Currently retrieving data for paris: from 2016-09-01 to 2016-09-30\n",
            "Time elapsed (hh:mm:ss.ms) 0:01:32.907438\n",
            "Currently retrieving data for paris: from 2016-10-01 to 2016-10-31\n",
            "Time elapsed (hh:mm:ss.ms) 0:01:34.236083\n",
            "Currently retrieving data for paris: from 2016-11-01 to 2016-11-30\n",
            "Time elapsed (hh:mm:ss.ms) 0:01:35.464184\n",
            "Currently retrieving data for paris: from 2016-12-01 to 2016-12-31\n",
            "Time elapsed (hh:mm:ss.ms) 0:01:36.673604\n",
            "Currently retrieving data for paris: from 2017-01-01 to 2017-01-31\n",
            "Time elapsed (hh:mm:ss.ms) 0:01:38.205064\n",
            "Currently retrieving data for paris: from 2017-02-01 to 2017-02-28\n",
            "Time elapsed (hh:mm:ss.ms) 0:01:39.276048\n",
            "Currently retrieving data for paris: from 2017-03-01 to 2017-03-31\n",
            "Time elapsed (hh:mm:ss.ms) 0:01:40.353416\n",
            "Currently retrieving data for paris: from 2017-04-01 to 2017-04-30\n",
            "Time elapsed (hh:mm:ss.ms) 0:01:41.491823\n",
            "Currently retrieving data for paris: from 2017-05-01 to 2017-05-31\n",
            "Time elapsed (hh:mm:ss.ms) 0:01:42.523621\n",
            "Currently retrieving data for paris: from 2017-06-01 to 2017-06-30\n",
            "Time elapsed (hh:mm:ss.ms) 0:01:43.747218\n",
            "Currently retrieving data for paris: from 2017-07-01 to 2017-07-31\n",
            "Time elapsed (hh:mm:ss.ms) 0:01:45.160143\n",
            "Currently retrieving data for paris: from 2017-08-01 to 2017-08-31\n",
            "Time elapsed (hh:mm:ss.ms) 0:01:46.392127\n",
            "Currently retrieving data for paris: from 2017-09-01 to 2017-09-30\n",
            "Time elapsed (hh:mm:ss.ms) 0:01:47.583785\n",
            "Currently retrieving data for paris: from 2017-10-01 to 2017-10-31\n",
            "Time elapsed (hh:mm:ss.ms) 0:01:48.727830\n",
            "Currently retrieving data for paris: from 2017-11-01 to 2017-11-30\n",
            "Time elapsed (hh:mm:ss.ms) 0:01:49.937647\n",
            "Currently retrieving data for paris: from 2017-12-01 to 2017-12-31\n",
            "Time elapsed (hh:mm:ss.ms) 0:01:51.215129\n",
            "Currently retrieving data for paris: from 2018-01-01 to 2018-01-31\n",
            "Time elapsed (hh:mm:ss.ms) 0:01:52.477547\n",
            "Currently retrieving data for paris: from 2018-02-01 to 2018-02-28\n",
            "Time elapsed (hh:mm:ss.ms) 0:01:53.699428\n",
            "Currently retrieving data for paris: from 2018-03-01 to 2018-03-31\n",
            "Time elapsed (hh:mm:ss.ms) 0:01:54.936356\n",
            "Currently retrieving data for paris: from 2018-04-01 to 2018-04-30\n",
            "Time elapsed (hh:mm:ss.ms) 0:01:56.120629\n",
            "Currently retrieving data for paris: from 2018-05-01 to 2018-05-31\n",
            "Time elapsed (hh:mm:ss.ms) 0:01:57.352086\n",
            "Currently retrieving data for paris: from 2018-06-01 to 2018-06-30\n",
            "Time elapsed (hh:mm:ss.ms) 0:01:58.477353\n",
            "Currently retrieving data for paris: from 2018-07-01 to 2018-07-31\n",
            "Time elapsed (hh:mm:ss.ms) 0:01:59.933174\n",
            "Currently retrieving data for paris: from 2018-08-01 to 2018-08-31\n",
            "Time elapsed (hh:mm:ss.ms) 0:02:01.247123\n",
            "Currently retrieving data for paris: from 2018-09-01 to 2018-09-30\n",
            "Time elapsed (hh:mm:ss.ms) 0:02:02.791558\n",
            "Currently retrieving data for paris: from 2018-10-01 to 2018-10-31\n",
            "Time elapsed (hh:mm:ss.ms) 0:02:04.033237\n",
            "Currently retrieving data for paris: from 2018-11-01 to 2018-11-30\n",
            "Time elapsed (hh:mm:ss.ms) 0:02:05.217918\n",
            "Currently retrieving data for paris: from 2018-12-01 to 2018-12-31\n",
            "Time elapsed (hh:mm:ss.ms) 0:02:06.721249\n",
            "Currently retrieving data for paris: from 2019-01-01 to 2019-01-31\n",
            "Time elapsed (hh:mm:ss.ms) 0:02:07.935373\n",
            "Currently retrieving data for paris: from 2019-02-01 to 2019-02-28\n",
            "Time elapsed (hh:mm:ss.ms) 0:02:09.137994\n",
            "Currently retrieving data for paris: from 2019-03-01 to 2019-03-31\n",
            "Time elapsed (hh:mm:ss.ms) 0:02:10.397654\n",
            "Currently retrieving data for paris: from 2019-04-01 to 2019-04-30\n",
            "Time elapsed (hh:mm:ss.ms) 0:02:11.655955\n",
            "Currently retrieving data for paris: from 2019-05-01 to 2019-05-31\n",
            "Time elapsed (hh:mm:ss.ms) 0:02:12.967715\n",
            "Currently retrieving data for paris: from 2019-06-01 to 2019-06-30\n",
            "Time elapsed (hh:mm:ss.ms) 0:02:14.122562\n",
            "Currently retrieving data for paris: from 2019-07-01 to 2019-07-31\n",
            "Time elapsed (hh:mm:ss.ms) 0:02:15.392606\n",
            "Currently retrieving data for paris: from 2019-08-01 to 2019-08-31\n",
            "Time elapsed (hh:mm:ss.ms) 0:02:16.661237\n",
            "Currently retrieving data for paris: from 2019-09-01 to 2019-09-30\n",
            "Time elapsed (hh:mm:ss.ms) 0:02:18.162994\n",
            "Currently retrieving data for paris: from 2019-10-01 to 2019-10-31\n",
            "Time elapsed (hh:mm:ss.ms) 0:02:19.339027\n",
            "Currently retrieving data for paris: from 2019-11-01 to 2019-11-30\n",
            "Time elapsed (hh:mm:ss.ms) 0:02:20.630134\n",
            "Currently retrieving data for paris: from 2019-12-01 to 2019-12-31\n",
            "Time elapsed (hh:mm:ss.ms) 0:02:21.925731\n",
            "Currently retrieving data for paris: from 2020-01-01 to 2020-01-31\n",
            "Time elapsed (hh:mm:ss.ms) 0:02:23.186385\n",
            "Currently retrieving data for paris: from 2020-02-01 to 2020-02-29\n",
            "Time elapsed (hh:mm:ss.ms) 0:02:24.511154\n",
            "Currently retrieving data for paris: from 2020-03-01 to 2020-03-31\n",
            "Time elapsed (hh:mm:ss.ms) 0:02:25.766053\n",
            "Currently retrieving data for paris: from 2020-04-01 to 2020-04-30\n",
            "Time elapsed (hh:mm:ss.ms) 0:02:27.009237\n",
            "Currently retrieving data for paris: from 2020-05-01 to 2020-05-31\n",
            "Time elapsed (hh:mm:ss.ms) 0:02:28.320966\n",
            "Currently retrieving data for paris: from 2020-06-01 to 2020-06-30\n",
            "Time elapsed (hh:mm:ss.ms) 0:02:29.564216\n",
            "Currently retrieving data for paris: from 2020-07-01 to 2020-07-31\n",
            "Time elapsed (hh:mm:ss.ms) 0:02:30.818784\n",
            "Currently retrieving data for paris: from 2020-08-01 to 2020-08-31\n",
            "Time elapsed (hh:mm:ss.ms) 0:02:31.974443\n",
            "Currently retrieving data for paris: from 2020-09-01 to 2020-09-30\n",
            "Time elapsed (hh:mm:ss.ms) 0:02:33.059145\n",
            "Currently retrieving data for paris: from 2020-10-01 to 2020-10-31\n",
            "Time elapsed (hh:mm:ss.ms) 0:02:34.361600\n",
            "Currently retrieving data for paris: from 2020-11-01 to 2020-11-30\n",
            "Time elapsed (hh:mm:ss.ms) 0:02:35.621965\n",
            "Currently retrieving data for paris: from 2020-12-01 to 2020-12-31\n",
            "Time elapsed (hh:mm:ss.ms) 0:02:36.900383\n"
          ]
        }
      ]
    },
    {
      "cell_type": "code",
      "source": [
        "# Extract temperature, humidity and precipitation\n",
        "t_list = df_weather[0].tempC.astype(float).to_list()\n",
        "h_list = df_weather[0].humidity.astype(float).to_list()\n",
        "s_list = df_weather[0].totalSnow_cm.astype(float).to_list()"
      ],
      "metadata": {
        "id": "edY_iluL55em"
      },
      "execution_count": 110,
      "outputs": []
    },
    {
      "cell_type": "code",
      "source": [
        "def binarize(snow, threshold):\n",
        "  if snow > threshold:\n",
        "    return 1\n",
        "  else:\n",
        "    return 0\n",
        "\n",
        "s_bin_list = [binarize(snow, MIN_SNOW_CM) for snow in s_list]\n",
        "\n",
        "cm = plt.cm.get_cmap('gray_r')\n",
        "plt.figure(dpi=150)\n",
        "sc = plt.scatter(t_list, h_list, c=s_bin_list, cmap=cm, label=\"Snow\")\n",
        "plt.colorbar(sc)\n",
        "plt.legend()\n",
        "plt.grid(True)\n",
        "plt.title(\"Snow(T, H)\")\n",
        "plt.xlabel(\"Temperature - °C\")\n",
        "plt.ylabel(\"Humidity - %\")\n",
        "plt.show()"
      ],
      "metadata": {
        "colab": {
          "base_uri": "https://localhost:8080/",
          "height": 594
        },
        "id": "_YDfL1gM6PyY",
        "outputId": "ab6db463-53be-4fae-b5fa-91251567bfc0"
      },
      "execution_count": 111,
      "outputs": [
        {
          "output_type": "display_data",
          "data": {
            "text/plain": [
              "<Figure size 900x600 with 2 Axes>"
            ],
            "image/png": "[encoded data removed]"
          },
          "metadata": {
            "needs_background": "light"
          }
        }
      ]
    },
    {
      "cell_type": "code",
      "source": [
        "def gen_label(snow, temperature):\n",
        "  if snow > MIN_SNOW_CM and temperature < MELTING_TEMPERATURE:\n",
        "    return \"Yes\"\n",
        "  else:\n",
        "    return \"No\"\n",
        "\n",
        "snow_labels = [gen_label(snow, temp) for snow, temp in zip(s_list, t_list)]"
      ],
      "metadata": {
        "id": "nMAzoOFX6gjI"
      },
      "execution_count": 112,
      "outputs": []
    },
    {
      "cell_type": "code",
      "source": [
        "csv_header = [\"Temp0\", \"Temp1\", \"Temp2\", \"Humi0\", \"Humi1\", \"Humi2\", \"Snow\"]\n",
        "\n",
        "df_dataset = pd.DataFrame(list(zip(t_list[:-2], t_list[1:-1], t_list[2:], h_list[:-2], h_list[1:-1], h_list[2:], snow_labels[2:])), columns = csv_header)\n"
      ],
      "metadata": {
        "id": "fzUmhoM76lJ8"
      },
      "execution_count": 113,
      "outputs": []
    },
    {
      "cell_type": "code",
      "source": [
        "df0 = df_dataset[df_dataset['Snow'] == \"No\"]\n",
        "df1 = df_dataset[df_dataset['Snow'] == \"Yes\"]\n",
        "\n",
        "num_nosnow_samples_old = round((len(df0.index) / (len(df_dataset.index))) * 100, 2)\n",
        "num_snow_samples_old   = round((len(df1.index) / (len(df_dataset.index))) * 100, 2)\n",
        "\n",
        "# Random subsampling of the majority class to guarantee 50% split\n",
        "if len(df1.index) < len(df0.index):\n",
        "  df0_sub = df0.sample(len(df1.index))\n",
        "  df_dataset = pd.concat([df0_sub, df1])\n",
        "else:\n",
        "  df1_sub = df1.sample(len(df0.index))\n",
        "  df_dataset = pd.concat([df1_sub, df0])\n",
        "\n",
        "df0 = df_dataset[df_dataset['Snow'] == \"No\"]\n",
        "df1 = df_dataset[df_dataset['Snow'] == \"Yes\"]\n",
        "\n",
        "num_nosnow_samples_new = round((len(df0.index) / (len(df_dataset.index))) * 100, 2)\n",
        "num_snow_samples_new = round((len(df1.index) / (len(df_dataset.index))) * 100, 2)\n",
        "\n",
        "# Show number of samples\n",
        "df_samples_results = pd.DataFrame.from_records(\n",
        "                [[\"% No Snow\", num_nosnow_samples_old, num_nosnow_samples_new],\n",
        "                [\"% Snow\", num_snow_samples_old, num_snow_samples_new]],\n",
        "            columns = [\"Class\", \"Before - %\", \"After - %\"], index=\"Class\").round(2)\n",
        "\n",
        "display(df_samples_results)"
      ],
      "metadata": {
        "colab": {
          "base_uri": "https://localhost:8080/",
          "height": 143
        },
        "id": "iDDuN59K6qK-",
        "outputId": "43d63c32-e334-462e-ad5e-10eabd781638"
      },
      "execution_count": 116,
      "outputs": [
        {
          "output_type": "display_data",
          "data": {
            "text/plain": [
              "           Before - %  After - %\n",
              "Class                           \n",
              "% No Snow        50.0       50.0\n",
              "% Snow           50.0       50.0"
            ],
            "text/html": [
              "\n",
              "  <div id=\"df-2b42791e-ec72-40aa-9ff7-12c5332011fa\">\n",
              "    <div class=\"colab-df-container\">\n",
              "      <div>\n",
              "<style scoped>\n",
              "    .dataframe tbody tr th:only-of-type {\n",
              "        vertical-align: middle;\n",
              "    }\n",
              "\n",
              "    .dataframe tbody tr th {\n",
              "        vertical-align: top;\n",
              "    }\n",
              "\n",
              "    .dataframe thead th {\n",
              "        text-align: right;\n",
              "    }\n",
              "</style>\n",
              "<table border=\"1\" class=\"dataframe\">\n",
              "  <thead>\n",
              "    <tr style=\"text-align: right;\">\n",
              "      <th></th>\n",
              "      <th>Before - %</th>\n",
              "      <th>After - %</th>\n",
              "    </tr>\n",
              "    <tr>\n",
              "      <th>Class</th>\n",
              "      <th></th>\n",
              "      <th></th>\n",
              "    </tr>\n",
              "  </thead>\n",
              "  <tbody>\n",
              "    <tr>\n",
              "      <th>% No Snow</th>\n",
              "      <td>50.0</td>\n",
              "      <td>50.0</td>\n",
              "    </tr>\n",
              "    <tr>\n",
              "      <th>% Snow</th>\n",
              "      <td>50.0</td>\n",
              "      <td>50.0</td>\n",
              "    </tr>\n",
              "  </tbody>\n",
              "</table>\n",
              "</div>\n",
              "      <button class=\"colab-df-convert\" onclick=\"convertToInteractive('df-2b42791e-ec72-40aa-9ff7-12c5332011fa')\"\n",
              "              title=\"Convert this dataframe to an interactive table.\"\n",
              "              style=\"display:none;\">\n",
              "        \n",
              "  <svg xmlns=\"http://www.w3.org/2000/svg\" height=\"24px\"viewBox=\"0 0 24 24\"\n",
              "       width=\"24px\">\n",
              "    <path d=\"M0 0h24v24H0V0z\" fill=\"none\"/>\n",
              "    <path d=\"M18.56 5.44l.94 2.06.94-2.06 2.06-.94-2.06-.94-.94-2.06-.94 2.06-2.06.94zm-11 1L8.5 8.5l.94-2.06 2.06-.94-2.06-.94L8.5 2.5l-.94 2.06-2.06.94zm10 10l.94 2.06.94-2.06 2.06-.94-2.06-.94-.94-2.06-.94 2.06-2.06.94z\"/><path d=\"M17.41 7.96l-1.37-1.37c-.4-.4-.92-.59-1.43-.59-.52 0-1.04.2-1.43.59L10.3 9.45l-7.72 7.72c-.78.78-.78 2.05 0 2.83L4 21.41c.39.39.9.59 1.41.59.51 0 1.02-.2 1.41-.59l7.78-7.78 2.81-2.81c.8-.78.8-2.07 0-2.86zM5.41 20L4 18.59l7.72-7.72 1.47 1.35L5.41 20z\"/>\n",
              "  </svg>\n",
              "      </button>\n",
              "      \n",
              "  <style>\n",
              "    .colab-df-container {\n",
              "      display:flex;\n",
              "      flex-wrap:wrap;\n",
              "      gap: 12px;\n",
              "    }\n",
              "\n",
              "    .colab-df-convert {\n",
              "      background-color: #E8F0FE;\n",
              "      border: none;\n",
              "      border-radius: 50%;\n",
              "      cursor: pointer;\n",
              "      display: none;\n",
              "      fill: #1967D2;\n",
              "      height: 32px;\n",
              "      padding: 0 0 0 0;\n",
              "      width: 32px;\n",
              "    }\n",
              "\n",
              "    .colab-df-convert:hover {\n",
              "      background-color: #E2EBFA;\n",
              "      box-shadow: 0px 1px 2px rgba(60, 64, 67, 0.3), 0px 1px 3px 1px rgba(60, 64, 67, 0.15);\n",
              "      fill: #174EA6;\n",
              "    }\n",
              "\n",
              "    [theme=dark] .colab-df-convert {\n",
              "      background-color: #3B4455;\n",
              "      fill: #D2E3FC;\n",
              "    }\n",
              "\n",
              "    [theme=dark] .colab-df-convert:hover {\n",
              "      background-color: #434B5C;\n",
              "      box-shadow: 0px 1px 3px 1px rgba(0, 0, 0, 0.15);\n",
              "      filter: drop-shadow(0px 1px 2px rgba(0, 0, 0, 0.3));\n",
              "      fill: #FFFFFF;\n",
              "    }\n",
              "  </style>\n",
              "\n",
              "      <script>\n",
              "        const buttonEl =\n",
              "          document.querySelector('#df-2b42791e-ec72-40aa-9ff7-12c5332011fa button.colab-df-convert');\n",
              "        buttonEl.style.display =\n",
              "          google.colab.kernel.accessAllowed ? 'block' : 'none';\n",
              "\n",
              "        async function convertToInteractive(key) {\n",
              "          const element = document.querySelector('#df-2b42791e-ec72-40aa-9ff7-12c5332011fa');\n",
              "          const dataTable =\n",
              "            await google.colab.kernel.invokeFunction('convertToInteractive',\n",
              "                                                     [key], {});\n",
              "          if (!dataTable) return;\n",
              "\n",
              "          const docLinkHtml = 'Like what you see? Visit the ' +\n",
              "            '<a target=\"_blank\" href=https://colab.research.google.com/notebooks/data_table.ipynb>data table notebook</a>'\n",
              "            + ' to learn more about interactive tables.';\n",
              "          element.innerHTML = '';\n",
              "          dataTable['output_type'] = 'display_data';\n",
              "          await google.colab.output.renderOutput(dataTable, element);\n",
              "          const docLink = document.createElement('div');\n",
              "          docLink.innerHTML = docLinkHtml;\n",
              "          element.appendChild(docLink);\n",
              "        }\n",
              "      </script>\n",
              "    </div>\n",
              "  </div>\n",
              "  "
            ]
          },
          "metadata": {}
        }
      ]
    },
    {
      "cell_type": "code",
      "source": [
        "# Get all values\n",
        "t_list = df_dataset['Temp0'].tolist()\n",
        "h_list = df_dataset['Humi0'].tolist()\n",
        "t_list = t_list + df_dataset['Temp2'].tail(2).tolist()\n",
        "h_list = h_list + df_dataset['Humi2'].tail(2).tolist()\n",
        "\n",
        "# Calculate mean and standard deviation\n",
        "t_avg = mean(t_list)\n",
        "h_avg = mean(h_list)\n",
        "t_std = std(t_list)\n",
        "h_std = std(h_list)\n",
        "print(\"COPY ME!\")\n",
        "print(\"Temperature - [MEAN, STD]  \", round(t_avg, 5), round(t_std, 5))\n",
        "print(\"Humidity - [MEAN, STD]     \", round(h_avg, 5), round(h_std, 5))\n",
        "\n",
        "# Scaling with Z-score function\n",
        "def scaling(val, avg, std):\n",
        "  return (val - avg) / (std)\n",
        "\n",
        "df_dataset['Temp0'] = df_dataset['Temp0'].apply(lambda x: scaling(x, t_avg, t_std))\n",
        "df_dataset['Temp1'] = df_dataset['Temp1'].apply(lambda x: scaling(x, t_avg, t_std))\n",
        "df_dataset['Temp2'] = df_dataset['Temp2'].apply(lambda x: scaling(x, t_avg, t_std))\n",
        "df_dataset['Humi0'] = df_dataset['Humi0'].apply(lambda x: scaling(x, h_avg, h_std))\n",
        "df_dataset['Humi1'] = df_dataset['Humi1'].apply(lambda x: scaling(x, h_avg, h_std))\n",
        "df_dataset['Humi2'] = df_dataset['Humi2'].apply(lambda x: scaling(x, h_avg, h_std))"
      ],
      "metadata": {
        "colab": {
          "base_uri": "https://localhost:8080/"
        },
        "id": "a5TX3jDa60bk",
        "outputId": "f746dd85-a9d8-4c39-a167-4d9d7e65d919"
      },
      "execution_count": 117,
      "outputs": [
        {
          "output_type": "stream",
          "name": "stdout",
          "text": [
            "COPY ME!\n",
            "Temperature - [MEAN, STD]   5.46088 8.06659\n",
            "Humidity - [MEAN, STD]      82.77126 13.94655\n"
          ]
        }
      ]
    },
    {
      "cell_type": "code",
      "source": [
        "t_norm_list = df_dataset['Temp0'].tolist()\n",
        "h_norm_list = df_dataset['Humi0'].tolist()\n",
        "t_norm_list = t_norm_list + df_dataset['Temp2'].tail(2).tolist()\n",
        "h_norm_list = h_norm_list + df_dataset['Humi2'].tail(2).tolist()\n",
        "\n",
        "fig, ax=plt.subplots(1,2)\n",
        "plt.subplots_adjust(wspace = 0.4)\n",
        "sns.distplot(t_list, ax=ax[0])\n",
        "ax[0].set_title(\"Un-normalized temperature\")\n",
        "sns.distplot(h_list, ax=ax[1])\n",
        "ax[1].set_title(\"Un-normalized humidity\")\n",
        "\n",
        "fig, ax=plt.subplots(1,2)\n",
        "plt.subplots_adjust(wspace = 0.5)\n",
        "sns.distplot(t_norm_list, ax=ax[0])\n",
        "ax[0].set_title(\"Normalized temperature\")\n",
        "sns.distplot(h_norm_list, ax=ax[1])\n",
        "ax[1].set_title(\"Normalized humidity\")"
      ],
      "metadata": {
        "colab": {
          "base_uri": "https://localhost:8080/",
          "height": 721
        },
        "id": "RzIer-c-69Iw",
        "outputId": "bbb51aa7-c5ef-4db1-a354-dd463727eacc"
      },
      "execution_count": 118,
      "outputs": [
        {
          "output_type": "stream",
          "name": "stderr",
          "text": [
            "/usr/local/lib/python3.8/dist-packages/seaborn/distributions.py:2619: FutureWarning: `distplot` is a deprecated function and will be removed in a future version. Please adapt your code to use either `displot` (a figure-level function with similar flexibility) or `histplot` (an axes-level function for histograms).\n",
            "  warnings.warn(msg, FutureWarning)\n",
            "/usr/local/lib/python3.8/dist-packages/seaborn/distributions.py:2619: FutureWarning: `distplot` is a deprecated function and will be removed in a future version. Please adapt your code to use either `displot` (a figure-level function with similar flexibility) or `histplot` (an axes-level function for histograms).\n",
            "  warnings.warn(msg, FutureWarning)\n",
            "/usr/local/lib/python3.8/dist-packages/seaborn/distributions.py:2619: FutureWarning: `distplot` is a deprecated function and will be removed in a future version. Please adapt your code to use either `displot` (a figure-level function with similar flexibility) or `histplot` (an axes-level function for histograms).\n",
            "  warnings.warn(msg, FutureWarning)\n",
            "/usr/local/lib/python3.8/dist-packages/seaborn/distributions.py:2619: FutureWarning: `distplot` is a deprecated function and will be removed in a future version. Please adapt your code to use either `displot` (a figure-level function with similar flexibility) or `histplot` (an axes-level function for histograms).\n",
            "  warnings.warn(msg, FutureWarning)\n"
          ]
        },
        {
          "output_type": "execute_result",
          "data": {
            "text/plain": [
              "Text(0.5, 1.0, 'Normalized humidity')"
            ]
          },
          "metadata": {},
          "execution_count": 118
        },
        {
          "output_type": "display_data",
          "data": {
            "text/plain": [
              "<Figure size 432x288 with 2 Axes>"
            ],
            "image/png": "[encoded data removed]"
          },
          "metadata": {
            "needs_background": "light"
          }
        },
        {
          "output_type": "display_data",
          "data": {
            "text/plain": [
              "<Figure size 432x288 with 2 Axes>"
            ],
            "image/png": "[encoded data removed]"
          },
          "metadata": {
            "needs_background": "light"
          }
        }
      ]
    },
    {
      "cell_type": "code",
      "source": [
        "df_dataset.to_csv(OUTPUT_DATASET_FILE, index=False)"
      ],
      "metadata": {
        "id": "u70AMZUI7DGW"
      },
      "execution_count": 93,
      "outputs": []
    },
    {
      "cell_type": "code",
      "source": [
        "f_names = df_dataset.columns.values[0:6]\n",
        "l_name  = df_dataset.columns.values[6:7]\n",
        "x = df_dataset[f_names]\n",
        "y = df_dataset[l_name]"
      ],
      "metadata": {
        "id": "ffoaMAcf7G_b"
      },
      "execution_count": 119,
      "outputs": []
    },
    {
      "cell_type": "code",
      "source": [
        "labelencoder = LabelEncoder()\n",
        "labelencoder.fit(y.Snow)\n",
        "y_encoded = labelencoder.transform(y.Snow)"
      ],
      "metadata": {
        "id": "3y1YoE7P7NDw"
      },
      "execution_count": 95,
      "outputs": []
    },
    {
      "cell_type": "code",
      "source": [
        "# Split 1 (85% vs 15%)\n",
        "x_train, x_validate_test, y_train, y_validate_test = train_test_split(x, y_encoded, test_size=0.15, random_state = 1)\n",
        "# Split 2 (50% vs 50%)\n",
        "x_test, x_validate, y_test, y_validate = train_test_split(x_validate_test, y_validate_test, test_size=0.50, random_state = 3)"
      ],
      "metadata": {
        "id": "V3RHcAt-7R4J"
      },
      "execution_count": 120,
      "outputs": []
    },
    {
      "cell_type": "code",
      "source": [
        "model = tf.keras.Sequential()\n",
        "model.add(layers.Dense(12, activation='relu', input_shape=(len(f_names),)))\n",
        "model.add(layers.Dropout(0.2))\n",
        "model.add(layers.Dense(1, activation='sigmoid'))\n",
        "model.summary()"
      ],
      "metadata": {
        "colab": {
          "base_uri": "https://localhost:8080/"
        },
        "id": "aFXUMi267WuK",
        "outputId": "c48d6a33-cce0-421f-9ed5-8edd4ad9f2f8"
      },
      "execution_count": 121,
      "outputs": [
        {
          "output_type": "stream",
          "name": "stdout",
          "text": [
            "Model: \"sequential_5\"\n",
            "_________________________________________________________________\n",
            " Layer (type)                Output Shape              Param #   \n",
            "=================================================================\n",
            " dense_10 (Dense)            (None, 12)                84        \n",
            "                                                                 \n",
            " dropout_5 (Dropout)         (None, 12)                0         \n",
            "                                                                 \n",
            " dense_11 (Dense)            (None, 1)                 13        \n",
            "                                                                 \n",
            "=================================================================\n",
            "Total params: 97\n",
            "Trainable params: 97\n",
            "Non-trainable params: 0\n",
            "_________________________________________________________________\n"
          ]
        }
      ]
    },
    {
      "cell_type": "code",
      "source": [
        "model.compile(loss='binary_crossentropy', optimizer='adam', metrics=['accuracy'])"
      ],
      "metadata": {
        "id": "dv_GqjIu7ieS"
      },
      "execution_count": 122,
      "outputs": []
    },
    {
      "cell_type": "code",
      "source": [
        "history = model.fit(x_train, y_train, epochs=NUM_EPOCHS, batch_size=BATCH_SIZE, validation_data=(x_validate, y_validate))"
      ],
      "metadata": {
        "colab": {
          "base_uri": "https://localhost:8080/"
        },
        "id": "vShLHJen7mgn",
        "outputId": "46f32b0e-ffa0-4569-86fe-052aebec9656"
      },
      "execution_count": 123,
      "outputs": [
        {
          "output_type": "stream",
          "name": "stdout",
          "text": [
            "Epoch 1/100\n",
            "16/16 [==============================] - 1s 48ms/step - loss: 0.6830 - accuracy: 0.5065 - val_loss: 0.6748 - val_accuracy: 0.5843\n",
            "Epoch 2/100\n",
            "16/16 [==============================] - 0s 12ms/step - loss: 0.6141 - accuracy: 0.6660 - val_loss: 0.6209 - val_accuracy: 0.7191\n",
            "Epoch 3/100\n",
            "16/16 [==============================] - 0s 9ms/step - loss: 0.5530 - accuracy: 0.7823 - val_loss: 0.5735 - val_accuracy: 0.7416\n",
            "Epoch 4/100\n",
            "16/16 [==============================] - 0s 15ms/step - loss: 0.5098 - accuracy: 0.8205 - val_loss: 0.5329 - val_accuracy: 0.7416\n",
            "Epoch 5/100\n",
            "16/16 [==============================] - 0s 14ms/step - loss: 0.4665 - accuracy: 0.8506 - val_loss: 0.4974 - val_accuracy: 0.7865\n",
            "Epoch 6/100\n",
            "16/16 [==============================] - 0s 21ms/step - loss: 0.4407 - accuracy: 0.8435 - val_loss: 0.4655 - val_accuracy: 0.7865\n",
            "Epoch 7/100\n",
            "16/16 [==============================] - 0s 17ms/step - loss: 0.4003 - accuracy: 0.8776 - val_loss: 0.4378 - val_accuracy: 0.8090\n",
            "Epoch 8/100\n",
            "16/16 [==============================] - 0s 19ms/step - loss: 0.3827 - accuracy: 0.8746 - val_loss: 0.4124 - val_accuracy: 0.8427\n",
            "Epoch 9/100\n",
            "16/16 [==============================] - 0s 16ms/step - loss: 0.3597 - accuracy: 0.8897 - val_loss: 0.3895 - val_accuracy: 0.8427\n",
            "Epoch 10/100\n",
            "16/16 [==============================] - 0s 18ms/step - loss: 0.3432 - accuracy: 0.8877 - val_loss: 0.3689 - val_accuracy: 0.8427\n",
            "Epoch 11/100\n",
            "16/16 [==============================] - 0s 14ms/step - loss: 0.3188 - accuracy: 0.8967 - val_loss: 0.3504 - val_accuracy: 0.8427\n",
            "Epoch 12/100\n",
            "16/16 [==============================] - 0s 15ms/step - loss: 0.3163 - accuracy: 0.8897 - val_loss: 0.3326 - val_accuracy: 0.8539\n",
            "Epoch 13/100\n",
            "16/16 [==============================] - 0s 10ms/step - loss: 0.2925 - accuracy: 0.9017 - val_loss: 0.3154 - val_accuracy: 0.8539\n",
            "Epoch 14/100\n",
            "16/16 [==============================] - 0s 8ms/step - loss: 0.2810 - accuracy: 0.9057 - val_loss: 0.3002 - val_accuracy: 0.8539\n",
            "Epoch 15/100\n",
            "16/16 [==============================] - 0s 8ms/step - loss: 0.2670 - accuracy: 0.9127 - val_loss: 0.2866 - val_accuracy: 0.8539\n",
            "Epoch 16/100\n",
            "16/16 [==============================] - 0s 8ms/step - loss: 0.2651 - accuracy: 0.9027 - val_loss: 0.2734 - val_accuracy: 0.8989\n",
            "Epoch 17/100\n",
            "16/16 [==============================] - 0s 14ms/step - loss: 0.2505 - accuracy: 0.9218 - val_loss: 0.2610 - val_accuracy: 0.9101\n",
            "Epoch 18/100\n",
            "16/16 [==============================] - 0s 11ms/step - loss: 0.2432 - accuracy: 0.9268 - val_loss: 0.2489 - val_accuracy: 0.9213\n",
            "Epoch 19/100\n",
            "16/16 [==============================] - 0s 12ms/step - loss: 0.2368 - accuracy: 0.9268 - val_loss: 0.2384 - val_accuracy: 0.9326\n",
            "Epoch 20/100\n",
            "16/16 [==============================] - 0s 15ms/step - loss: 0.2267 - accuracy: 0.9348 - val_loss: 0.2292 - val_accuracy: 0.9326\n",
            "Epoch 21/100\n",
            "16/16 [==============================] - 0s 13ms/step - loss: 0.2210 - accuracy: 0.9268 - val_loss: 0.2206 - val_accuracy: 0.9326\n",
            "Epoch 22/100\n",
            "16/16 [==============================] - 0s 9ms/step - loss: 0.2146 - accuracy: 0.9348 - val_loss: 0.2131 - val_accuracy: 0.9326\n",
            "Epoch 23/100\n",
            "16/16 [==============================] - 0s 15ms/step - loss: 0.2052 - accuracy: 0.9338 - val_loss: 0.2063 - val_accuracy: 0.9326\n",
            "Epoch 24/100\n",
            "16/16 [==============================] - 0s 10ms/step - loss: 0.2094 - accuracy: 0.9348 - val_loss: 0.2009 - val_accuracy: 0.9326\n",
            "Epoch 25/100\n",
            "16/16 [==============================] - 0s 10ms/step - loss: 0.1980 - accuracy: 0.9378 - val_loss: 0.1963 - val_accuracy: 0.9326\n",
            "Epoch 26/100\n",
            "16/16 [==============================] - 0s 11ms/step - loss: 0.1932 - accuracy: 0.9408 - val_loss: 0.1912 - val_accuracy: 0.9326\n",
            "Epoch 27/100\n",
            "16/16 [==============================] - 0s 9ms/step - loss: 0.2031 - accuracy: 0.9368 - val_loss: 0.1872 - val_accuracy: 0.9438\n",
            "Epoch 28/100\n",
            "16/16 [==============================] - 0s 12ms/step - loss: 0.1848 - accuracy: 0.9438 - val_loss: 0.1833 - val_accuracy: 0.9438\n",
            "Epoch 29/100\n",
            "16/16 [==============================] - 0s 9ms/step - loss: 0.1948 - accuracy: 0.9368 - val_loss: 0.1806 - val_accuracy: 0.9438\n",
            "Epoch 30/100\n",
            "16/16 [==============================] - 0s 10ms/step - loss: 0.1830 - accuracy: 0.9418 - val_loss: 0.1779 - val_accuracy: 0.9438\n",
            "Epoch 31/100\n",
            "16/16 [==============================] - 0s 15ms/step - loss: 0.1931 - accuracy: 0.9398 - val_loss: 0.1748 - val_accuracy: 0.9438\n",
            "Epoch 32/100\n",
            "16/16 [==============================] - 0s 11ms/step - loss: 0.1858 - accuracy: 0.9388 - val_loss: 0.1725 - val_accuracy: 0.9438\n",
            "Epoch 33/100\n",
            "16/16 [==============================] - 0s 12ms/step - loss: 0.1863 - accuracy: 0.9418 - val_loss: 0.1699 - val_accuracy: 0.9438\n",
            "Epoch 34/100\n",
            "16/16 [==============================] - 0s 13ms/step - loss: 0.1763 - accuracy: 0.9428 - val_loss: 0.1678 - val_accuracy: 0.9438\n",
            "Epoch 35/100\n",
            "16/16 [==============================] - 0s 16ms/step - loss: 0.1769 - accuracy: 0.9438 - val_loss: 0.1657 - val_accuracy: 0.9551\n",
            "Epoch 36/100\n",
            "16/16 [==============================] - 0s 7ms/step - loss: 0.1744 - accuracy: 0.9418 - val_loss: 0.1632 - val_accuracy: 0.9551\n",
            "Epoch 37/100\n",
            "16/16 [==============================] - 0s 9ms/step - loss: 0.1716 - accuracy: 0.9539 - val_loss: 0.1606 - val_accuracy: 0.9551\n",
            "Epoch 38/100\n",
            "16/16 [==============================] - 0s 12ms/step - loss: 0.1717 - accuracy: 0.9509 - val_loss: 0.1585 - val_accuracy: 0.9551\n",
            "Epoch 39/100\n",
            "16/16 [==============================] - 0s 9ms/step - loss: 0.1675 - accuracy: 0.9509 - val_loss: 0.1567 - val_accuracy: 0.9551\n",
            "Epoch 40/100\n",
            "16/16 [==============================] - 0s 13ms/step - loss: 0.1640 - accuracy: 0.9458 - val_loss: 0.1554 - val_accuracy: 0.9663\n",
            "Epoch 41/100\n",
            "16/16 [==============================] - 0s 17ms/step - loss: 0.1699 - accuracy: 0.9468 - val_loss: 0.1535 - val_accuracy: 0.9663\n",
            "Epoch 42/100\n",
            "16/16 [==============================] - 0s 15ms/step - loss: 0.1692 - accuracy: 0.9438 - val_loss: 0.1520 - val_accuracy: 0.9663\n",
            "Epoch 43/100\n",
            "16/16 [==============================] - 0s 21ms/step - loss: 0.1594 - accuracy: 0.9498 - val_loss: 0.1502 - val_accuracy: 0.9663\n",
            "Epoch 44/100\n",
            "16/16 [==============================] - 0s 16ms/step - loss: 0.1661 - accuracy: 0.9519 - val_loss: 0.1490 - val_accuracy: 0.9663\n",
            "Epoch 45/100\n",
            "16/16 [==============================] - 0s 14ms/step - loss: 0.1570 - accuracy: 0.9509 - val_loss: 0.1472 - val_accuracy: 0.9663\n",
            "Epoch 46/100\n",
            "16/16 [==============================] - 0s 14ms/step - loss: 0.1607 - accuracy: 0.9509 - val_loss: 0.1462 - val_accuracy: 0.9663\n",
            "Epoch 47/100\n",
            "16/16 [==============================] - 0s 20ms/step - loss: 0.1637 - accuracy: 0.9519 - val_loss: 0.1453 - val_accuracy: 0.9663\n",
            "Epoch 48/100\n",
            "16/16 [==============================] - 0s 13ms/step - loss: 0.1632 - accuracy: 0.9519 - val_loss: 0.1449 - val_accuracy: 0.9663\n",
            "Epoch 49/100\n",
            "16/16 [==============================] - 0s 22ms/step - loss: 0.1596 - accuracy: 0.9579 - val_loss: 0.1437 - val_accuracy: 0.9663\n",
            "Epoch 50/100\n",
            "16/16 [==============================] - 0s 21ms/step - loss: 0.1610 - accuracy: 0.9498 - val_loss: 0.1431 - val_accuracy: 0.9663\n",
            "Epoch 51/100\n",
            "16/16 [==============================] - 0s 13ms/step - loss: 0.1561 - accuracy: 0.9529 - val_loss: 0.1421 - val_accuracy: 0.9663\n",
            "Epoch 52/100\n",
            "16/16 [==============================] - 0s 12ms/step - loss: 0.1518 - accuracy: 0.9549 - val_loss: 0.1409 - val_accuracy: 0.9663\n",
            "Epoch 53/100\n",
            "16/16 [==============================] - 0s 7ms/step - loss: 0.1520 - accuracy: 0.9569 - val_loss: 0.1404 - val_accuracy: 0.9663\n",
            "Epoch 54/100\n",
            "16/16 [==============================] - 0s 7ms/step - loss: 0.1511 - accuracy: 0.9559 - val_loss: 0.1390 - val_accuracy: 0.9663\n",
            "Epoch 55/100\n",
            "16/16 [==============================] - 0s 6ms/step - loss: 0.1507 - accuracy: 0.9559 - val_loss: 0.1377 - val_accuracy: 0.9663\n",
            "Epoch 56/100\n",
            "16/16 [==============================] - 0s 7ms/step - loss: 0.1550 - accuracy: 0.9509 - val_loss: 0.1369 - val_accuracy: 0.9663\n",
            "Epoch 57/100\n",
            "16/16 [==============================] - 0s 9ms/step - loss: 0.1569 - accuracy: 0.9498 - val_loss: 0.1364 - val_accuracy: 0.9663\n",
            "Epoch 58/100\n",
            "16/16 [==============================] - 0s 10ms/step - loss: 0.1484 - accuracy: 0.9539 - val_loss: 0.1355 - val_accuracy: 0.9663\n",
            "Epoch 59/100\n",
            "16/16 [==============================] - 0s 11ms/step - loss: 0.1565 - accuracy: 0.9549 - val_loss: 0.1343 - val_accuracy: 0.9663\n",
            "Epoch 60/100\n",
            "16/16 [==============================] - 0s 9ms/step - loss: 0.1470 - accuracy: 0.9589 - val_loss: 0.1334 - val_accuracy: 0.9663\n",
            "Epoch 61/100\n",
            "16/16 [==============================] - 0s 14ms/step - loss: 0.1417 - accuracy: 0.9559 - val_loss: 0.1329 - val_accuracy: 0.9663\n",
            "Epoch 62/100\n",
            "16/16 [==============================] - 0s 8ms/step - loss: 0.1466 - accuracy: 0.9589 - val_loss: 0.1323 - val_accuracy: 0.9663\n",
            "Epoch 63/100\n",
            "16/16 [==============================] - 0s 11ms/step - loss: 0.1420 - accuracy: 0.9609 - val_loss: 0.1316 - val_accuracy: 0.9663\n",
            "Epoch 64/100\n",
            "16/16 [==============================] - 0s 13ms/step - loss: 0.1499 - accuracy: 0.9609 - val_loss: 0.1307 - val_accuracy: 0.9663\n",
            "Epoch 65/100\n",
            "16/16 [==============================] - 0s 8ms/step - loss: 0.1403 - accuracy: 0.9609 - val_loss: 0.1296 - val_accuracy: 0.9663\n",
            "Epoch 66/100\n",
            "16/16 [==============================] - 0s 11ms/step - loss: 0.1437 - accuracy: 0.9589 - val_loss: 0.1286 - val_accuracy: 0.9663\n",
            "Epoch 67/100\n",
            "16/16 [==============================] - 0s 11ms/step - loss: 0.1414 - accuracy: 0.9569 - val_loss: 0.1284 - val_accuracy: 0.9663\n",
            "Epoch 68/100\n",
            "16/16 [==============================] - 0s 19ms/step - loss: 0.1475 - accuracy: 0.9559 - val_loss: 0.1280 - val_accuracy: 0.9663\n",
            "Epoch 69/100\n",
            "16/16 [==============================] - 0s 9ms/step - loss: 0.1512 - accuracy: 0.9579 - val_loss: 0.1276 - val_accuracy: 0.9663\n",
            "Epoch 70/100\n",
            "16/16 [==============================] - 0s 8ms/step - loss: 0.1377 - accuracy: 0.9599 - val_loss: 0.1269 - val_accuracy: 0.9663\n",
            "Epoch 71/100\n",
            "16/16 [==============================] - 0s 8ms/step - loss: 0.1495 - accuracy: 0.9589 - val_loss: 0.1264 - val_accuracy: 0.9663\n",
            "Epoch 72/100\n",
            "16/16 [==============================] - 0s 8ms/step - loss: 0.1385 - accuracy: 0.9589 - val_loss: 0.1259 - val_accuracy: 0.9663\n",
            "Epoch 73/100\n",
            "16/16 [==============================] - 0s 10ms/step - loss: 0.1400 - accuracy: 0.9599 - val_loss: 0.1248 - val_accuracy: 0.9663\n",
            "Epoch 74/100\n",
            "16/16 [==============================] - 0s 10ms/step - loss: 0.1424 - accuracy: 0.9629 - val_loss: 0.1245 - val_accuracy: 0.9663\n",
            "Epoch 75/100\n",
            "16/16 [==============================] - 0s 15ms/step - loss: 0.1406 - accuracy: 0.9639 - val_loss: 0.1236 - val_accuracy: 0.9663\n",
            "Epoch 76/100\n",
            "16/16 [==============================] - 0s 9ms/step - loss: 0.1422 - accuracy: 0.9639 - val_loss: 0.1229 - val_accuracy: 0.9663\n",
            "Epoch 77/100\n",
            "16/16 [==============================] - 0s 8ms/step - loss: 0.1409 - accuracy: 0.9619 - val_loss: 0.1229 - val_accuracy: 0.9663\n",
            "Epoch 78/100\n",
            "16/16 [==============================] - 0s 8ms/step - loss: 0.1412 - accuracy: 0.9669 - val_loss: 0.1223 - val_accuracy: 0.9663\n",
            "Epoch 79/100\n",
            "16/16 [==============================] - 0s 8ms/step - loss: 0.1425 - accuracy: 0.9589 - val_loss: 0.1220 - val_accuracy: 0.9663\n",
            "Epoch 80/100\n",
            "16/16 [==============================] - 0s 7ms/step - loss: 0.1426 - accuracy: 0.9629 - val_loss: 0.1222 - val_accuracy: 0.9663\n",
            "Epoch 81/100\n",
            "16/16 [==============================] - 0s 9ms/step - loss: 0.1401 - accuracy: 0.9629 - val_loss: 0.1216 - val_accuracy: 0.9663\n",
            "Epoch 82/100\n",
            "16/16 [==============================] - 0s 9ms/step - loss: 0.1410 - accuracy: 0.9589 - val_loss: 0.1213 - val_accuracy: 0.9663\n",
            "Epoch 83/100\n",
            "16/16 [==============================] - 0s 10ms/step - loss: 0.1394 - accuracy: 0.9579 - val_loss: 0.1204 - val_accuracy: 0.9663\n",
            "Epoch 84/100\n",
            "16/16 [==============================] - 0s 18ms/step - loss: 0.1343 - accuracy: 0.9629 - val_loss: 0.1193 - val_accuracy: 0.9663\n",
            "Epoch 85/100\n",
            "16/16 [==============================] - 0s 7ms/step - loss: 0.1366 - accuracy: 0.9619 - val_loss: 0.1193 - val_accuracy: 0.9663\n",
            "Epoch 86/100\n",
            "16/16 [==============================] - 0s 10ms/step - loss: 0.1419 - accuracy: 0.9629 - val_loss: 0.1186 - val_accuracy: 0.9663\n",
            "Epoch 87/100\n",
            "16/16 [==============================] - 0s 7ms/step - loss: 0.1372 - accuracy: 0.9609 - val_loss: 0.1186 - val_accuracy: 0.9663\n",
            "Epoch 88/100\n",
            "16/16 [==============================] - 0s 11ms/step - loss: 0.1385 - accuracy: 0.9639 - val_loss: 0.1173 - val_accuracy: 0.9663\n",
            "Epoch 89/100\n",
            "16/16 [==============================] - 0s 9ms/step - loss: 0.1320 - accuracy: 0.9669 - val_loss: 0.1168 - val_accuracy: 0.9663\n",
            "Epoch 90/100\n",
            "16/16 [==============================] - 0s 8ms/step - loss: 0.1434 - accuracy: 0.9659 - val_loss: 0.1162 - val_accuracy: 0.9663\n",
            "Epoch 91/100\n",
            "16/16 [==============================] - 0s 10ms/step - loss: 0.1399 - accuracy: 0.9569 - val_loss: 0.1163 - val_accuracy: 0.9663\n",
            "Epoch 92/100\n",
            "16/16 [==============================] - 0s 14ms/step - loss: 0.1293 - accuracy: 0.9599 - val_loss: 0.1161 - val_accuracy: 0.9663\n",
            "Epoch 93/100\n",
            "16/16 [==============================] - 0s 8ms/step - loss: 0.1248 - accuracy: 0.9649 - val_loss: 0.1151 - val_accuracy: 0.9663\n",
            "Epoch 94/100\n",
            "16/16 [==============================] - 0s 13ms/step - loss: 0.1386 - accuracy: 0.9599 - val_loss: 0.1145 - val_accuracy: 0.9663\n",
            "Epoch 95/100\n",
            "16/16 [==============================] - 0s 8ms/step - loss: 0.1330 - accuracy: 0.9609 - val_loss: 0.1141 - val_accuracy: 0.9663\n",
            "Epoch 96/100\n",
            "16/16 [==============================] - 0s 14ms/step - loss: 0.1303 - accuracy: 0.9649 - val_loss: 0.1136 - val_accuracy: 0.9663\n",
            "Epoch 97/100\n",
            "16/16 [==============================] - 0s 19ms/step - loss: 0.1303 - accuracy: 0.9669 - val_loss: 0.1136 - val_accuracy: 0.9663\n",
            "Epoch 98/100\n",
            "16/16 [==============================] - 0s 17ms/step - loss: 0.1264 - accuracy: 0.9659 - val_loss: 0.1132 - val_accuracy: 0.9663\n",
            "Epoch 99/100\n",
            "16/16 [==============================] - 0s 14ms/step - loss: 0.1318 - accuracy: 0.9629 - val_loss: 0.1129 - val_accuracy: 0.9663\n",
            "Epoch 100/100\n",
            "16/16 [==============================] - 0s 7ms/step - loss: 0.1339 - accuracy: 0.9669 - val_loss: 0.1128 - val_accuracy: 0.9663\n"
          ]
        }
      ]
    },
    {
      "cell_type": "code",
      "source": [
        "loss_train = history.history['loss']\n",
        "loss_val   = history.history['val_loss']\n",
        "acc_train  = history.history['accuracy']\n",
        "acc_val    = history.history['val_accuracy']\n",
        "epochs     = range(1, NUM_EPOCHS + 1)\n",
        "\n",
        "def plot_train_val_history(x, y_train, y_val, type_txt):\n",
        "  plt.figure(figsize = (10,7))\n",
        "  plt.plot(x, y_train, 'g', label='Training'+type_txt)\n",
        "  plt.plot(x, y_val, 'b', label='Validation'+type_txt)\n",
        "  plt.title('Training and Validation'+type_txt)\n",
        "  plt.xlabel('Epochs')\n",
        "  plt.ylabel(type_txt)\n",
        "  plt.legend()\n",
        "  plt.show()\n",
        "\n",
        "plot_train_val_history(epochs, loss_train, loss_val, \"Loss\")\n",
        "plot_train_val_history(epochs, acc_train, acc_val, \"Accuracy\")"
      ],
      "metadata": {
        "colab": {
          "base_uri": "https://localhost:8080/",
          "height": 899
        },
        "id": "WY5HZhcc76L_",
        "outputId": "5a9baf79-16b2-42bc-dee8-f106f4383a30"
      },
      "execution_count": 124,
      "outputs": [
        {
          "output_type": "display_data",
          "data": {
            "text/plain": [
              "<Figure size 720x504 with 1 Axes>"
            ],
            "image/png": "[encoded data removed]"
          },
          "metadata": {
            "needs_background": "light"
          }
        },
        {
          "output_type": "display_data",
          "data": {
            "text/plain": [
              "<Figure size 720x504 with 1 Axes>"
            ],
            "image/png": "[encoded data removed]"
          },
          "metadata": {
            "needs_background": "light"
          }
        }
      ]
    },
    {
      "cell_type": "code",
      "source": [
        "model.save(TF_MODEL)"
      ],
      "metadata": {
        "id": "G6D9NgqM8Xr5"
      },
      "execution_count": 125,
      "outputs": []
    },
    {
      "cell_type": "code",
      "source": [
        "y_test_pred = model.predict(x_test)\n",
        "\n",
        "y_test_pred = (y_test_pred > 0.5).astype(\"int32\")\n",
        "\n",
        "cm = sklearn.metrics.confusion_matrix(y_test, y_test_pred)\n",
        "\n",
        "index_names  = [\"Actual No Snow\", \"Actual Snow\"]\n",
        "column_names = [\"Predicted No Snow\", \"Predicted Snow\"]\n",
        "\n",
        "df_cm = pd.DataFrame(cm, index = index_names, columns = column_names)\n",
        "\n",
        "plt.figure(figsize = (10,7))\n",
        "sns.heatmap(df_cm, annot=True, fmt='d', cmap=\"Blues\")\n",
        "plt.figure(figsize = (10,7))"
      ],
      "metadata": {
        "colab": {
          "base_uri": "https://localhost:8080/",
          "height": 480
        },
        "id": "ztLvp3Qa81H6",
        "outputId": "b2c2e3a5-b7a7-4113-deef-fc6b348f4cc3"
      },
      "execution_count": 126,
      "outputs": [
        {
          "output_type": "stream",
          "name": "stdout",
          "text": [
            "3/3 [==============================] - 0s 4ms/step\n"
          ]
        },
        {
          "output_type": "execute_result",
          "data": {
            "text/plain": [
              "<Figure size 720x504 with 0 Axes>"
            ]
          },
          "metadata": {},
          "execution_count": 126
        },
        {
          "output_type": "display_data",
          "data": {
            "text/plain": [
              "<Figure size 720x504 with 2 Axes>"
            ],
            "image/png": "[encoded data removed]"
          },
          "metadata": {
            "needs_background": "light"
          }
        },
        {
          "output_type": "display_data",
          "data": {
            "text/plain": [
              "<Figure size 720x504 with 0 Axes>"
            ]
          },
          "metadata": {}
        }
      ]
    },
    {
      "cell_type": "code",
      "source": [
        "TN = cm[0][0]\n",
        "TP = cm[1][1]\n",
        "FN = cm[1][0]\n",
        "FP = cm[0][1]\n",
        "\n",
        "accuracy = (TP + TN) / (TP + TN + FN + FP)\n",
        "precision = TP / (TP + FP)\n",
        "recall = TP / (TP + FN)\n",
        "f_score = (2 * recall * precision) / (recall + precision)\n",
        "\n",
        "print(\"Accuracy:  \", round(accuracy, 3))\n",
        "print(\"Recall:    \", round(recall, 3))\n",
        "print(\"Precision: \", round(precision, 3))\n",
        "print(\"F-score:   \", round(f_score, 3))"
      ],
      "metadata": {
        "colab": {
          "base_uri": "https://localhost:8080/"
        },
        "id": "4NLj63ag86YZ",
        "outputId": "2465844e-bb7b-41c7-ef08-fea01634dea1"
      },
      "execution_count": 127,
      "outputs": [
        {
          "output_type": "stream",
          "name": "stdout",
          "text": [
            "Accuracy:   0.977\n",
            "Recall:     0.955\n",
            "Precision:  1.0\n",
            "F-score:    0.977\n"
          ]
        }
      ]
    },
    {
      "cell_type": "code",
      "source": [
        "def representative_data_gen():\n",
        "  for i_value in tf.data.Dataset.from_tensor_slices(x_test).batch(1).take(100):\n",
        "    i_value_f32 = tf.dtypes.cast(i_value, tf.float32)\n",
        "    yield [i_value_f32]"
      ],
      "metadata": {
        "id": "x_1Al9Vu-w9f"
      },
      "execution_count": 129,
      "outputs": []
    },
    {
      "cell_type": "code",
      "source": [
        "converter = tf.lite.TFLiteConverter.from_saved_model(TF_MODEL)"
      ],
      "metadata": {
        "id": "LD4m_Nzi-0Y5"
      },
      "execution_count": 130,
      "outputs": []
    },
    {
      "cell_type": "code",
      "source": [
        "converter.representative_dataset = tf.lite.RepresentativeDataset(representative_data_gen)\n",
        "converter.optimizations = [tf.lite.Optimize.DEFAULT]\n",
        "converter.target_spec.supported_ops = [tf.lite.OpsSet.TFLITE_BUILTINS_INT8]\n",
        "converter.inference_input_type = tf.int8\n",
        "converter.inference_output_type = tf.int8"
      ],
      "metadata": {
        "id": "MFPBuq64-4UG"
      },
      "execution_count": 131,
      "outputs": []
    },
    {
      "cell_type": "code",
      "source": [
        "tflite_model_quant = converter.convert()\n",
        "open(TFL_MODEL_FILE, \"wb\").write(tflite_model_quant)"
      ],
      "metadata": {
        "colab": {
          "base_uri": "https://localhost:8080/"
        },
        "id": "hcjWHTFR--Vy",
        "outputId": "3f675391-6c24-4dc0-a20c-a734581ab362"
      },
      "execution_count": 132,
      "outputs": [
        {
          "output_type": "execute_result",
          "data": {
            "text/plain": [
              "2104"
            ]
          },
          "metadata": {},
          "execution_count": 132
        }
      ]
    },
    {
      "cell_type": "code",
      "source": [
        "!apt-get update && apt-get -qq install xxd\n",
        "!xxd -i snow_forecast_model.tflite > model.h\n",
        "!cat model.h"
      ],
      "metadata": {
        "colab": {
          "base_uri": "https://localhost:8080/"
        },
        "id": "rMlRdvIU_DjX",
        "outputId": "d5ddcc58-f3aa-42ef-df02-74e9f6ac8cdf"
      },
      "execution_count": 133,
      "outputs": [
        {
          "output_type": "stream",
          "name": "stdout",
          "text": [
            "\r0% [Working]\r            \rHit:1 http://archive.ubuntu.com/ubuntu bionic InRelease\n",
            "\r            \rGet:2 http://security.ubuntu.com/ubuntu bionic-security InRelease [88.7 kB]\n",
            "\r0% [Waiting for headers] [2 InRelease 20.0 kB/88.7 kB 23%] [Connected to cloud.\r                                                                               \rGet:3 http://archive.ubuntu.com/ubuntu bionic-updates InRelease [88.7 kB]\n",
            "\r                                                                               \rGet:4 https://cloud.r-project.org/bin/linux/ubuntu bionic-cran40/ InRelease [3,626 B]\n",
            "Get:5 http://archive.ubuntu.com/ubuntu bionic-backports InRelease [83.3 kB]\n",
            "Hit:6 http://ppa.launchpad.net/c2d4u.team/c2d4u4.0+/ubuntu bionic InRelease\n",
            "Ign:7 https://developer.download.nvidia.com/compute/machine-learning/repos/ubuntu1804/x86_64  InRelease\n",
            "Hit:8 https://developer.download.nvidia.com/compute/cuda/repos/ubuntu1804/x86_64  InRelease\n",
            "Hit:9 https://developer.download.nvidia.com/compute/machine-learning/repos/ubuntu1804/x86_64  Release\n",
            "Hit:10 http://ppa.launchpad.net/cran/libgit2/ubuntu bionic InRelease\n",
            "Hit:11 http://ppa.launchpad.net/deadsnakes/ppa/ubuntu bionic InRelease\n",
            "Hit:12 http://ppa.launchpad.net/graphics-drivers/ppa/ubuntu bionic InRelease\n",
            "Fetched 264 kB in 3s (77.2 kB/s)\n",
            "Reading package lists... Done\n",
            "unsigned char snow_forecast_model_tflite[] = {\n",
            "  0x1c, 0x00, 0x00, 0x00, 0x54, 0x46, 0x4c, 0x33, 0x14, 0x00, 0x20, 0x00,\n",
            "  0x1c, 0x00, 0x18, 0x00, 0x14, 0x00, 0x10, 0x00, 0x0c, 0x00, 0x00, 0x00,\n",
            "  0x08, 0x00, 0x04, 0x00, 0x14, 0x00, 0x00, 0x00, 0x1c, 0x00, 0x00, 0x00,\n",
            "  0x8c, 0x00, 0x00, 0x00, 0xe4, 0x00, 0x00, 0x00, 0x64, 0x02, 0x00, 0x00,\n",
            "  0x74, 0x02, 0x00, 0x00, 0xcc, 0x07, 0x00, 0x00, 0x03, 0x00, 0x00, 0x00,\n",
            "  0x01, 0x00, 0x00, 0x00, 0x04, 0x00, 0x00, 0x00, 0x52, 0xfd, 0xff, 0xff,\n",
            "  0x0c, 0x00, 0x00, 0x00, 0x1c, 0x00, 0x00, 0x00, 0x3c, 0x00, 0x00, 0x00,\n",
            "  0x0f, 0x00, 0x00, 0x00, 0x73, 0x65, 0x72, 0x76, 0x69, 0x6e, 0x67, 0x5f,\n",
            "  0x64, 0x65, 0x66, 0x61, 0x75, 0x6c, 0x74, 0x00, 0x01, 0x00, 0x00, 0x00,\n",
            "  0x04, 0x00, 0x00, 0x00, 0x90, 0xff, 0xff, 0xff, 0x07, 0x00, 0x00, 0x00,\n",
            "  0x04, 0x00, 0x00, 0x00, 0x08, 0x00, 0x00, 0x00, 0x64, 0x65, 0x6e, 0x73,\n",
            "  0x65, 0x5f, 0x31, 0x31, 0x00, 0x00, 0x00, 0x00, 0x01, 0x00, 0x00, 0x00,\n",
            "  0x04, 0x00, 0x00, 0x00, 0x66, 0xfe, 0xff, 0xff, 0x04, 0x00, 0x00, 0x00,\n",
            "  0x0e, 0x00, 0x00, 0x00, 0x64, 0x65, 0x6e, 0x73, 0x65, 0x5f, 0x31, 0x30,\n",
            "  0x5f, 0x69, 0x6e, 0x70, 0x75, 0x74, 0x00, 0x00, 0x02, 0x00, 0x00, 0x00,\n",
            "  0x34, 0x00, 0x00, 0x00, 0x04, 0x00, 0x00, 0x00, 0xdc, 0xff, 0xff, 0xff,\n",
            "  0x0a, 0x00, 0x00, 0x00, 0x04, 0x00, 0x00, 0x00, 0x13, 0x00, 0x00, 0x00,\n",
            "  0x43, 0x4f, 0x4e, 0x56, 0x45, 0x52, 0x53, 0x49, 0x4f, 0x4e, 0x5f, 0x4d,\n",
            "  0x45, 0x54, 0x41, 0x44, 0x41, 0x54, 0x41, 0x00, 0x08, 0x00, 0x0c, 0x00,\n",
            "  0x08, 0x00, 0x04, 0x00, 0x08, 0x00, 0x00, 0x00, 0x09, 0x00, 0x00, 0x00,\n",
            "  0x04, 0x00, 0x00, 0x00, 0x13, 0x00, 0x00, 0x00, 0x6d, 0x69, 0x6e, 0x5f,\n",
            "  0x72, 0x75, 0x6e, 0x74, 0x69, 0x6d, 0x65, 0x5f, 0x76, 0x65, 0x72, 0x73,\n",
            "  0x69, 0x6f, 0x6e, 0x00, 0x0b, 0x00, 0x00, 0x00, 0x7c, 0x01, 0x00, 0x00,\n",
            "  0x74, 0x01, 0x00, 0x00, 0x1c, 0x01, 0x00, 0x00, 0xd4, 0x00, 0x00, 0x00,\n",
            "  0xb8, 0x00, 0x00, 0x00, 0xa4, 0x00, 0x00, 0x00, 0x9c, 0x00, 0x00, 0x00,\n",
            "  0x94, 0x00, 0x00, 0x00, 0x8c, 0x00, 0x00, 0x00, 0x6c, 0x00, 0x00, 0x00,\n",
            "  0x04, 0x00, 0x00, 0x00, 0x0e, 0xff, 0xff, 0xff, 0x04, 0x00, 0x00, 0x00,\n",
            "  0x58, 0x00, 0x00, 0x00, 0x0c, 0x00, 0x00, 0x00, 0x08, 0x00, 0x0e, 0x00,\n",
            "  0x08, 0x00, 0x04, 0x00, 0x08, 0x00, 0x00, 0x00, 0x10, 0x00, 0x00, 0x00,\n",
            "  0x28, 0x00, 0x00, 0x00, 0x00, 0x00, 0x06, 0x00, 0x08, 0x00, 0x04, 0x00,\n",
            "  0x06, 0x00, 0x00, 0x00, 0x04, 0x00, 0x00, 0x00, 0x01, 0x00, 0x00, 0x00,\n",
            "  0xeb, 0x03, 0x00, 0x00, 0x00, 0x00, 0x0a, 0x00, 0x10, 0x00, 0x0c, 0x00,\n",
            "  0x08, 0x00, 0x04, 0x00, 0x0a, 0x00, 0x00, 0x00, 0x01, 0x00, 0x00, 0x00,\n",
            "  0x02, 0x00, 0x00, 0x00, 0x04, 0x00, 0x00, 0x00, 0x05, 0x00, 0x00, 0x00,\n",
            "  0x32, 0x2e, 0x39, 0x2e, 0x32, 0x00, 0x00, 0x00, 0x72, 0xff, 0xff, 0xff,\n",
            "  0x04, 0x00, 0x00, 0x00, 0x10, 0x00, 0x00, 0x00, 0x31, 0x2e, 0x31, 0x34,\n",
            "  0x2e, 0x30, 0x00, 0x00, 0x00, 0x00, 0x00, 0x00, 0x00, 0x00, 0x00, 0x00,\n",
            "  0x8c, 0xfe, 0xff, 0xff, 0x90, 0xfe, 0xff, 0xff, 0x94, 0xfe, 0xff, 0xff,\n",
            "  0x9a, 0xff, 0xff, 0xff, 0x04, 0x00, 0x00, 0x00, 0x04, 0x00, 0x00, 0x00,\n",
            "  0xea, 0x00, 0x00, 0x00, 0xaa, 0xff, 0xff, 0xff, 0x04, 0x00, 0x00, 0x00,\n",
            "  0x0c, 0x00, 0x00, 0x00, 0xbb, 0x3b, 0xd7, 0xbe, 0x7c, 0x1e, 0x38, 0x48,\n",
            "  0xd9, 0x7f, 0xef, 0xae, 0xc2, 0xff, 0xff, 0xff, 0x04, 0x00, 0x00, 0x00,\n",
            "  0x30, 0x00, 0x00, 0x00, 0x54, 0xff, 0xff, 0xff, 0x4c, 0x14, 0x00, 0x00,\n",
            "  0xcd, 0xfd, 0xff, 0xff, 0x9b, 0xfe, 0xff, 0xff, 0xc9, 0x0e, 0x00, 0x00,\n",
            "  0x7d, 0xfc, 0xff, 0xff, 0xfd, 0x0d, 0x00, 0x00, 0x02, 0x12, 0x00, 0x00,\n",
            "  0xc8, 0xff, 0xff, 0xff, 0xfd, 0x0b, 0x00, 0x00, 0x49, 0xfd, 0xff, 0xff,\n",
            "  0x54, 0xfe, 0xff, 0xff, 0x00, 0x00, 0x06, 0x00, 0x08, 0x00, 0x04, 0x00,\n",
            "  0x06, 0x00, 0x00, 0x00, 0x04, 0x00, 0x00, 0x00, 0x48, 0x00, 0x00, 0x00,\n",
            "  0xe8, 0xd7, 0xb3, 0x0b, 0xd8, 0x30, 0x46, 0x69, 0x2f, 0x0a, 0x13, 0xd2,\n",
            "  0xe5, 0xae, 0xe3, 0x26, 0x2f, 0x37, 0x03, 0xd4, 0x9d, 0x0f, 0x0f, 0xf7,\n",
            "  0x20, 0x63, 0x1f, 0xfb, 0x12, 0xf5, 0xea, 0xf8, 0xeb, 0xcf, 0xd4, 0x21,\n",
            "  0x60, 0x42, 0x51, 0xf2, 0xe3, 0xe4, 0x36, 0x63, 0x7f, 0xfe, 0x29, 0x29,\n",
            "  0xa9, 0xdd, 0xb6, 0xf7, 0xf7, 0x3e, 0x50, 0x33, 0x50, 0x2a, 0x23, 0xfb,\n",
            "  0x26, 0x2f, 0xb2, 0xfc, 0xe2, 0x2a, 0xb5, 0xf1, 0xdb, 0xe4, 0x07, 0x23,\n",
            "  0x58, 0xff, 0xff, 0xff, 0x5c, 0xff, 0xff, 0xff, 0x0f, 0x00, 0x00, 0x00,\n",
            "  0x4d, 0x4c, 0x49, 0x52, 0x20, 0x43, 0x6f, 0x6e, 0x76, 0x65, 0x72, 0x74,\n",
            "  0x65, 0x64, 0x2e, 0x00, 0x01, 0x00, 0x00, 0x00, 0x14, 0x00, 0x00, 0x00,\n",
            "  0x00, 0x00, 0x0e, 0x00, 0x18, 0x00, 0x14, 0x00, 0x10, 0x00, 0x0c, 0x00,\n",
            "  0x08, 0x00, 0x04, 0x00, 0x0e, 0x00, 0x00, 0x00, 0x14, 0x00, 0x00, 0x00,\n",
            "  0x1c, 0x00, 0x00, 0x00, 0xd4, 0x00, 0x00, 0x00, 0xd8, 0x00, 0x00, 0x00,\n",
            "  0xdc, 0x00, 0x00, 0x00, 0x04, 0x00, 0x00, 0x00, 0x6d, 0x61, 0x69, 0x6e,\n",
            "  0x00, 0x00, 0x00, 0x00, 0x03, 0x00, 0x00, 0x00, 0x7c, 0x00, 0x00, 0x00,\n",
            "  0x34, 0x00, 0x00, 0x00, 0x10, 0x00, 0x00, 0x00, 0x00, 0x00, 0x0a, 0x00,\n",
            "  0x10, 0x00, 0x0c, 0x00, 0x08, 0x00, 0x04, 0x00, 0x0a, 0x00, 0x00, 0x00,\n",
            "  0x0c, 0x00, 0x00, 0x00, 0x10, 0x00, 0x00, 0x00, 0x01, 0x00, 0x00, 0x00,\n",
            "  0x01, 0x00, 0x00, 0x00, 0x07, 0x00, 0x00, 0x00, 0x01, 0x00, 0x00, 0x00,\n",
            "  0x06, 0x00, 0x00, 0x00, 0xca, 0xff, 0xff, 0xff, 0x14, 0x00, 0x00, 0x00,\n",
            "  0x00, 0x00, 0x00, 0x08, 0x10, 0x00, 0x00, 0x00, 0x14, 0x00, 0x00, 0x00,\n",
            "  0x04, 0x00, 0x04, 0x00, 0x04, 0x00, 0x00, 0x00, 0x01, 0x00, 0x00, 0x00,\n",
            "  0x06, 0x00, 0x00, 0x00, 0x03, 0x00, 0x00, 0x00, 0x05, 0x00, 0x00, 0x00,\n",
            "  0x03, 0x00, 0x00, 0x00, 0x04, 0x00, 0x00, 0x00, 0x00, 0x00, 0x0e, 0x00,\n",
            "  0x16, 0x00, 0x00, 0x00, 0x10, 0x00, 0x0c, 0x00, 0x0b, 0x00, 0x04, 0x00,\n",
            "  0x0e, 0x00, 0x00, 0x00, 0x18, 0x00, 0x00, 0x00, 0x00, 0x00, 0x00, 0x08,\n",
            "  0x18, 0x00, 0x00, 0x00, 0x1c, 0x00, 0x00, 0x00, 0x00, 0x00, 0x06, 0x00,\n",
            "  0x08, 0x00, 0x07, 0x00, 0x06, 0x00, 0x00, 0x00, 0x00, 0x00, 0x00, 0x01,\n",
            "  0x01, 0x00, 0x00, 0x00, 0x05, 0x00, 0x00, 0x00, 0x03, 0x00, 0x00, 0x00,\n",
            "  0x00, 0x00, 0x00, 0x00, 0x01, 0x00, 0x00, 0x00, 0x02, 0x00, 0x00, 0x00,\n",
            "  0x01, 0x00, 0x00, 0x00, 0x07, 0x00, 0x00, 0x00, 0x01, 0x00, 0x00, 0x00,\n",
            "  0x00, 0x00, 0x00, 0x00, 0x08, 0x00, 0x00, 0x00, 0xc4, 0x03, 0x00, 0x00,\n",
            "  0x44, 0x03, 0x00, 0x00, 0xb8, 0x02, 0x00, 0x00, 0x4c, 0x02, 0x00, 0x00,\n",
            "  0xd0, 0x01, 0x00, 0x00, 0x1c, 0x01, 0x00, 0x00, 0x80, 0x00, 0x00, 0x00,\n",
            "  0x04, 0x00, 0x00, 0x00, 0x70, 0xfc, 0xff, 0xff, 0x18, 0x00, 0x00, 0x00,\n",
            "  0x20, 0x00, 0x00, 0x00, 0x40, 0x00, 0x00, 0x00, 0x08, 0x00, 0x00, 0x00,\n",
            "  0x00, 0x00, 0x00, 0x09, 0x54, 0x00, 0x00, 0x00, 0x02, 0x00, 0x00, 0x00,\n",
            "  0xff, 0xff, 0xff, 0xff, 0x01, 0x00, 0x00, 0x00, 0x5c, 0xfc, 0xff, 0xff,\n",
            "  0x08, 0x00, 0x00, 0x00, 0x14, 0x00, 0x00, 0x00, 0x01, 0x00, 0x00, 0x00,\n",
            "  0x80, 0xff, 0xff, 0xff, 0xff, 0xff, 0xff, 0xff, 0x00, 0x00, 0x00, 0x00,\n",
            "  0x01, 0x00, 0x00, 0x00, 0x00, 0x00, 0x80, 0x3b, 0x19, 0x00, 0x00, 0x00,\n",
            "  0x53, 0x74, 0x61, 0x74, 0x65, 0x66, 0x75, 0x6c, 0x50, 0x61, 0x72, 0x74,\n",
            "  0x69, 0x74, 0x69, 0x6f, 0x6e, 0x65, 0x64, 0x43, 0x61, 0x6c, 0x6c, 0x3a,\n",
            "  0x30, 0x00, 0x00, 0x00, 0x02, 0x00, 0x00, 0x00, 0x01, 0x00, 0x00, 0x00,\n",
            "  0x01, 0x00, 0x00, 0x00, 0xe8, 0xfc, 0xff, 0xff, 0x18, 0x00, 0x00, 0x00,\n",
            "  0x20, 0x00, 0x00, 0x00, 0x40, 0x00, 0x00, 0x00, 0x07, 0x00, 0x00, 0x00,\n",
            "  0x00, 0x00, 0x00, 0x09, 0x74, 0x00, 0x00, 0x00, 0x02, 0x00, 0x00, 0x00,\n",
            "  0xff, 0xff, 0xff, 0xff, 0x01, 0x00, 0x00, 0x00, 0xd4, 0xfc, 0xff, 0xff,\n",
            "  0x08, 0x00, 0x00, 0x00, 0x14, 0x00, 0x00, 0x00, 0x01, 0x00, 0x00, 0x00,\n",
            "  0xa8, 0xff, 0xff, 0xff, 0xff, 0xff, 0xff, 0xff, 0x00, 0x00, 0x00, 0x00,\n",
            "  0x01, 0x00, 0x00, 0x00, 0x85, 0x60, 0xf6, 0x3d, 0x3a, 0x00, 0x00, 0x00,\n",
            "  0x73, 0x65, 0x71, 0x75, 0x65, 0x6e, 0x74, 0x69, 0x61, 0x6c, 0x5f, 0x35,\n",
            "  0x2f, 0x64, 0x65, 0x6e, 0x73, 0x65, 0x5f, 0x31, 0x31, 0x2f, 0x4d, 0x61,\n",
            "  0x74, 0x4d, 0x75, 0x6c, 0x3b, 0x73, 0x65, 0x71, 0x75, 0x65, 0x6e, 0x74,\n",
            "  0x69, 0x61, 0x6c, 0x5f, 0x35, 0x2f, 0x64, 0x65, 0x6e, 0x73, 0x65, 0x5f,\n",
            "  0x31, 0x31, 0x2f, 0x42, 0x69, 0x61, 0x73, 0x41, 0x64, 0x64, 0x00, 0x00,\n",
            "  0x02, 0x00, 0x00, 0x00, 0x01, 0x00, 0x00, 0x00, 0x01, 0x00, 0x00, 0x00,\n",
            "  0x80, 0xfd, 0xff, 0xff, 0x18, 0x00, 0x00, 0x00, 0x20, 0x00, 0x00, 0x00,\n",
            "  0x3c, 0x00, 0x00, 0x00, 0x06, 0x00, 0x00, 0x00, 0x00, 0x00, 0x00, 0x09,\n",
            "  0x8c, 0x00, 0x00, 0x00, 0x02, 0x00, 0x00, 0x00, 0xff, 0xff, 0xff, 0xff,\n",
            "  0x0c, 0x00, 0x00, 0x00, 0x6c, 0xfd, 0xff, 0xff, 0x08, 0x00, 0x00, 0x00,\n",
            "  0x10, 0x00, 0x00, 0x00, 0x01, 0x00, 0x00, 0x00, 0x80, 0xff, 0xff, 0xff,\n",
            "  0xff, 0xff, 0xff, 0xff, 0x01, 0x00, 0x00, 0x00, 0x28, 0xa6, 0xf1, 0x3c,\n",
            "  0x55, 0x00, 0x00, 0x00, 0x73, 0x65, 0x71, 0x75, 0x65, 0x6e, 0x74, 0x69,\n",
            "  0x61, 0x6c, 0x5f, 0x35, 0x2f, 0x64, 0x65, 0x6e, 0x73, 0x65, 0x5f, 0x31,\n",
            "  0x30, 0x2f, 0x4d, 0x61, 0x74, 0x4d, 0x75, 0x6c, 0x3b, 0x73, 0x65, 0x71,\n",
            "  0x75, 0x65, 0x6e, 0x74, 0x69, 0x61, 0x6c, 0x5f, 0x35, 0x2f, 0x64, 0x65,\n",
            "  0x6e, 0x73, 0x65, 0x5f, 0x31, 0x30, 0x2f, 0x52, 0x65, 0x6c, 0x75, 0x3b,\n",
            "  0x73, 0x65, 0x71, 0x75, 0x65, 0x6e, 0x74, 0x69, 0x61, 0x6c, 0x5f, 0x35,\n",
            "  0x2f, 0x64, 0x65, 0x6e, 0x73, 0x65, 0x5f, 0x31, 0x30, 0x2f, 0x42, 0x69,\n",
            "  0x61, 0x73, 0x41, 0x64, 0x64, 0x00, 0x00, 0x00, 0x02, 0x00, 0x00, 0x00,\n",
            "  0x01, 0x00, 0x00, 0x00, 0x0c, 0x00, 0x00, 0x00, 0xa6, 0xfe, 0xff, 0xff,\n",
            "  0x14, 0x00, 0x00, 0x00, 0x34, 0x00, 0x00, 0x00, 0x05, 0x00, 0x00, 0x00,\n",
            "  0x00, 0x00, 0x00, 0x02, 0x5c, 0x00, 0x00, 0x00, 0x0c, 0xfe, 0xff, 0xff,\n",
            "  0x08, 0x00, 0x00, 0x00, 0x14, 0x00, 0x00, 0x00, 0x01, 0x00, 0x00, 0x00,\n",
            "  0x00, 0x00, 0x00, 0x00, 0x00, 0x00, 0x00, 0x00, 0x00, 0x00, 0x00, 0x00,\n",
            "  0x01, 0x00, 0x00, 0x00, 0x15, 0x70, 0x9f, 0x39, 0x2c, 0x00, 0x00, 0x00,\n",
            "  0x73, 0x65, 0x71, 0x75, 0x65, 0x6e, 0x74, 0x69, 0x61, 0x6c, 0x5f, 0x35,\n",
            "  0x2f, 0x64, 0x65, 0x6e, 0x73, 0x65, 0x5f, 0x31, 0x31, 0x2f, 0x42, 0x69,\n",
            "  0x61, 0x73, 0x41, 0x64, 0x64, 0x2f, 0x52, 0x65, 0x61, 0x64, 0x56, 0x61,\n",
            "  0x72, 0x69, 0x61, 0x62, 0x6c, 0x65, 0x4f, 0x70, 0x00, 0x00, 0x00, 0x00,\n",
            "  0x01, 0x00, 0x00, 0x00, 0x01, 0x00, 0x00, 0x00, 0x1e, 0xff, 0xff, 0xff,\n",
            "  0x14, 0x00, 0x00, 0x00, 0x30, 0x00, 0x00, 0x00, 0x04, 0x00, 0x00, 0x00,\n",
            "  0x00, 0x00, 0x00, 0x09, 0x48, 0x00, 0x00, 0x00, 0x84, 0xfe, 0xff, 0xff,\n",
            "  0x08, 0x00, 0x00, 0x00, 0x10, 0x00, 0x00, 0x00, 0x01, 0x00, 0x00, 0x00,\n",
            "  0x00, 0x00, 0x00, 0x00, 0x00, 0x00, 0x00, 0x00, 0x01, 0x00, 0x00, 0x00,\n",
            "  0x0d, 0xe8, 0x28, 0x3c, 0x1c, 0x00, 0x00, 0x00, 0x73, 0x65, 0x71, 0x75,\n",
            "  0x65, 0x6e, 0x74, 0x69, 0x61, 0x6c, 0x5f, 0x35, 0x2f, 0x64, 0x65, 0x6e,\n",
            "  0x73, 0x65, 0x5f, 0x31, 0x31, 0x2f, 0x4d, 0x61, 0x74, 0x4d, 0x75, 0x6c,\n",
            "  0x00, 0x00, 0x00, 0x00, 0x02, 0x00, 0x00, 0x00, 0x01, 0x00, 0x00, 0x00,\n",
            "  0x0c, 0x00, 0x00, 0x00, 0x86, 0xff, 0xff, 0xff, 0x14, 0x00, 0x00, 0x00,\n",
            "  0x34, 0x00, 0x00, 0x00, 0x03, 0x00, 0x00, 0x00, 0x00, 0x00, 0x00, 0x02,\n",
            "  0x5c, 0x00, 0x00, 0x00, 0xec, 0xfe, 0xff, 0xff, 0x08, 0x00, 0x00, 0x00,\n",
            "  0x14, 0x00, 0x00, 0x00, 0x01, 0x00, 0x00, 0x00, 0x00, 0x00, 0x00, 0x00,\n",
            "  0x00, 0x00, 0x00, 0x00, 0x00, 0x00, 0x00, 0x00, 0x01, 0x00, 0x00, 0x00,\n",
            "  0xb4, 0x25, 0x5d, 0x39, 0x2c, 0x00, 0x00, 0x00, 0x73, 0x65, 0x71, 0x75,\n",
            "  0x65, 0x6e, 0x74, 0x69, 0x61, 0x6c, 0x5f, 0x35, 0x2f, 0x64, 0x65, 0x6e,\n",
            "  0x73, 0x65, 0x5f, 0x31, 0x30, 0x2f, 0x42, 0x69, 0x61, 0x73, 0x41, 0x64,\n",
            "  0x64, 0x2f, 0x52, 0x65, 0x61, 0x64, 0x56, 0x61, 0x72, 0x69, 0x61, 0x62,\n",
            "  0x6c, 0x65, 0x4f, 0x70, 0x00, 0x00, 0x00, 0x00, 0x01, 0x00, 0x00, 0x00,\n",
            "  0x0c, 0x00, 0x00, 0x00, 0x00, 0x00, 0x0e, 0x00, 0x18, 0x00, 0x14, 0x00,\n",
            "  0x13, 0x00, 0x0c, 0x00, 0x08, 0x00, 0x04, 0x00, 0x0e, 0x00, 0x00, 0x00,\n",
            "  0x14, 0x00, 0x00, 0x00, 0x30, 0x00, 0x00, 0x00, 0x02, 0x00, 0x00, 0x00,\n",
            "  0x00, 0x00, 0x00, 0x09, 0x48, 0x00, 0x00, 0x00, 0x74, 0xff, 0xff, 0xff,\n",
            "  0x08, 0x00, 0x00, 0x00, 0x10, 0x00, 0x00, 0x00, 0x01, 0x00, 0x00, 0x00,\n",
            "  0x00, 0x00, 0x00, 0x00, 0x00, 0x00, 0x00, 0x00, 0x01, 0x00, 0x00, 0x00,\n",
            "  0xe8, 0x39, 0x13, 0x3c, 0x1c, 0x00, 0x00, 0x00, 0x73, 0x65, 0x71, 0x75,\n",
            "  0x65, 0x6e, 0x74, 0x69, 0x61, 0x6c, 0x5f, 0x35, 0x2f, 0x64, 0x65, 0x6e,\n",
            "  0x73, 0x65, 0x5f, 0x31, 0x30, 0x2f, 0x4d, 0x61, 0x74, 0x4d, 0x75, 0x6c,\n",
            "  0x00, 0x00, 0x00, 0x00, 0x02, 0x00, 0x00, 0x00, 0x0c, 0x00, 0x00, 0x00,\n",
            "  0x06, 0x00, 0x00, 0x00, 0x14, 0x00, 0x1c, 0x00, 0x18, 0x00, 0x17, 0x00,\n",
            "  0x10, 0x00, 0x0c, 0x00, 0x08, 0x00, 0x00, 0x00, 0x00, 0x00, 0x04, 0x00,\n",
            "  0x14, 0x00, 0x00, 0x00, 0x18, 0x00, 0x00, 0x00, 0x2c, 0x00, 0x00, 0x00,\n",
            "  0x4c, 0x00, 0x00, 0x00, 0x01, 0x00, 0x00, 0x00, 0x00, 0x00, 0x00, 0x09,\n",
            "  0x68, 0x00, 0x00, 0x00, 0x02, 0x00, 0x00, 0x00, 0xff, 0xff, 0xff, 0xff,\n",
            "  0x06, 0x00, 0x00, 0x00, 0x0c, 0x00, 0x0c, 0x00, 0x00, 0x00, 0x00, 0x00,\n",
            "  0x08, 0x00, 0x04, 0x00, 0x0c, 0x00, 0x00, 0x00, 0x08, 0x00, 0x00, 0x00,\n",
            "  0x14, 0x00, 0x00, 0x00, 0x01, 0x00, 0x00, 0x00, 0x03, 0x00, 0x00, 0x00,\n",
            "  0x00, 0x00, 0x00, 0x00, 0x00, 0x00, 0x00, 0x00, 0x01, 0x00, 0x00, 0x00,\n",
            "  0x8c, 0x44, 0xc0, 0x3c, 0x20, 0x00, 0x00, 0x00, 0x73, 0x65, 0x72, 0x76,\n",
            "  0x69, 0x6e, 0x67, 0x5f, 0x64, 0x65, 0x66, 0x61, 0x75, 0x6c, 0x74, 0x5f,\n",
            "  0x64, 0x65, 0x6e, 0x73, 0x65, 0x5f, 0x31, 0x30, 0x5f, 0x69, 0x6e, 0x70,\n",
            "  0x75, 0x74, 0x3a, 0x30, 0x00, 0x00, 0x00, 0x00, 0x02, 0x00, 0x00, 0x00,\n",
            "  0x01, 0x00, 0x00, 0x00, 0x06, 0x00, 0x00, 0x00, 0x02, 0x00, 0x00, 0x00,\n",
            "  0x24, 0x00, 0x00, 0x00, 0x04, 0x00, 0x00, 0x00, 0xf0, 0xff, 0xff, 0xff,\n",
            "  0x0e, 0x00, 0x00, 0x00, 0x02, 0x00, 0x00, 0x00, 0x00, 0x00, 0x00, 0x0e,\n",
            "  0x0c, 0x00, 0x10, 0x00, 0x0f, 0x00, 0x00, 0x00, 0x08, 0x00, 0x04, 0x00,\n",
            "  0x0c, 0x00, 0x00, 0x00, 0x09, 0x00, 0x00, 0x00, 0x04, 0x00, 0x00, 0x00,\n",
            "  0x00, 0x00, 0x00, 0x09\n",
            "};\n",
            "unsigned int snow_forecast_model_tflite_len = 2104;\n"
          ]
        }
      ]
    }
  ]
}